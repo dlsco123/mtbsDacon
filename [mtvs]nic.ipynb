{
 "cells": [
  {
   "cell_type": "code",
   "execution_count": 1,
   "id": "7aebeef3",
   "metadata": {},
   "outputs": [],
   "source": [
    "import os\n",
    "import gc\n",
    "import re\n",
    "\n",
    "import pyarrow as pa\n",
    "import pyarrow.parquet as pq\n",
    "import pandas as pd\n",
    "import numpy as np\n",
    "import nltk\n",
    "import matplotlib.pyplot as plt\n",
    "import wordcloud\n",
    "\n",
    "from matplotlib.pyplot import figure\n",
    "from sklearn.feature_extraction.text import TfidfVectorizer\n",
    "from sklearn.model_selection import cross_val_score\n",
    "from sklearn.linear_model import LogisticRegression\n",
    "from sklearn.metrics import accuracy_score"
   ]
  },
  {
   "attachments": {},
   "cell_type": "markdown",
   "id": "3214f155",
   "metadata": {},
   "source": []
  },
  {
   "cell_type": "code",
   "execution_count": 2,
   "id": "10a1ad58",
   "metadata": {},
   "outputs": [],
   "source": [
    "# !pip install pyarrow\n",
    "# !pip install nltk\n",
    "# !pip install wordcloud\n",
    "# !pip install xgboost\n",
    "# !pip install scikit-learn"
   ]
  },
  {
   "cell_type": "code",
   "execution_count": 3,
   "id": "dc13fc3c-c1b1-4b77-9ea2-8742c3633345",
   "metadata": {},
   "outputs": [],
   "source": [
    "# train = pd.read_csv('c:/data/project/train.csv')\n",
    "# test = pd.read_csv('c:/data/project/test.csv')"
   ]
  },
  {
   "attachments": {},
   "cell_type": "markdown",
   "id": "fa1440cf-2e5e-4644-b9e2-0be81c46610b",
   "metadata": {},
   "source": [
    "## Data Preprocessing"
   ]
  },
  {
   "cell_type": "code",
   "execution_count": 4,
   "id": "84920f85",
   "metadata": {},
   "outputs": [],
   "source": [
    "# # parquet으로 저장 함수, csv보다 매우 빠르게 데이터 처리가 가능:)\n",
    "## Convert CSV files to Parquet format for faster data reading and processing\n",
    "def csv_to_parquet(csv_path, save_name):\n",
    "    df = pd.read_csv(csv_path)\n",
    "    df.to_parquet(f'./{save_name}.parquet')\n",
    "    del df\n",
    "    gc.collect()                            #garbage collect\n",
    "    print(save_name, 'Done.')"
   ]
  },
  {
   "cell_type": "code",
   "execution_count": 5,
   "id": "8880c421",
   "metadata": {},
   "outputs": [
    {
     "name": "stdout",
     "output_type": "stream",
     "text": [
      "train Done.\n",
      "test Done.\n"
     ]
    }
   ],
   "source": [
    "csv_to_parquet('c:/data/project/train.csv', 'train')\n",
    "csv_to_parquet('c:/data/project/test.csv', 'test')\n",
    "\n",
    "train = pd.read_parquet('train.parquet')\n",
    "test = pd.read_parquet('test.parquet')\n",
    "# sample_submission = pd.read_csv('c:/data/project/sample_submission.csv', index_col = 0)"
   ]
  },
  {
   "cell_type": "code",
   "execution_count": 6,
   "id": "158679f6",
   "metadata": {},
   "outputs": [
    {
     "name": "stdout",
     "output_type": "stream",
     "text": [
      "<class 'pandas.core.frame.DataFrame'>\n",
      "RangeIndex: 2478 entries, 0 to 2477\n",
      "Data columns (total 5 columns):\n",
      " #   Column              Non-Null Count  Dtype \n",
      "---  ------              --------------  ----- \n",
      " 0   ID                  2478 non-null   object\n",
      " 1   first_party         2478 non-null   object\n",
      " 2   second_party        2478 non-null   object\n",
      " 3   facts               2478 non-null   object\n",
      " 4   first_party_winner  2478 non-null   int64 \n",
      "dtypes: int64(1), object(4)\n",
      "memory usage: 96.9+ KB\n"
     ]
    }
   ],
   "source": [
    "# train 복사\n",
    "train1 = train.copy()\n",
    "train1.info()"
   ]
  },
  {
   "cell_type": "code",
   "execution_count": 7,
   "id": "5405436f",
   "metadata": {},
   "outputs": [],
   "source": [
    "train1.drop(columns=['ID','first_party', 'second_party'], inplace=True)"
   ]
  },
  {
   "cell_type": "code",
   "execution_count": 8,
   "id": "e9bfdd18",
   "metadata": {},
   "outputs": [
    {
     "name": "stdout",
     "output_type": "stream",
     "text": [
      "first_party_winner\n",
      "1    1649\n",
      "0     829\n",
      "Name: count, dtype: int64\n"
     ]
    },
    {
     "data": {
      "text/html": [
       "<div>\n",
       "<style scoped>\n",
       "    .dataframe tbody tr th:only-of-type {\n",
       "        vertical-align: middle;\n",
       "    }\n",
       "\n",
       "    .dataframe tbody tr th {\n",
       "        vertical-align: top;\n",
       "    }\n",
       "\n",
       "    .dataframe thead th {\n",
       "        text-align: right;\n",
       "    }\n",
       "</style>\n",
       "<table border=\"1\" class=\"dataframe\">\n",
       "  <thead>\n",
       "    <tr style=\"text-align: right;\">\n",
       "      <th></th>\n",
       "      <th>facts</th>\n",
       "      <th>first_party_winner</th>\n",
       "    </tr>\n",
       "  </thead>\n",
       "  <tbody>\n",
       "    <tr>\n",
       "      <th>0</th>\n",
       "      <td>On June 27, 1962, Phil St. Amant, a candidate ...</td>\n",
       "      <td>1</td>\n",
       "    </tr>\n",
       "    <tr>\n",
       "      <th>1</th>\n",
       "      <td>Ramon Nelson was riding his bike when he suffe...</td>\n",
       "      <td>0</td>\n",
       "    </tr>\n",
       "    <tr>\n",
       "      <th>2</th>\n",
       "      <td>An Alabama state court convicted Billy Joe Mag...</td>\n",
       "      <td>1</td>\n",
       "    </tr>\n",
       "    <tr>\n",
       "      <th>3</th>\n",
       "      <td>Victor Linkletter was convicted in state court...</td>\n",
       "      <td>0</td>\n",
       "    </tr>\n",
       "    <tr>\n",
       "      <th>4</th>\n",
       "      <td>On April 24, 1953 in Selma, Alabama, an intrud...</td>\n",
       "      <td>1</td>\n",
       "    </tr>\n",
       "  </tbody>\n",
       "</table>\n",
       "</div>"
      ],
      "text/plain": [
       "                                               facts  first_party_winner\n",
       "0  On June 27, 1962, Phil St. Amant, a candidate ...                   1\n",
       "1  Ramon Nelson was riding his bike when he suffe...                   0\n",
       "2  An Alabama state court convicted Billy Joe Mag...                   1\n",
       "3  Victor Linkletter was convicted in state court...                   0\n",
       "4  On April 24, 1953 in Selma, Alabama, an intrud...                   1"
      ]
     },
     "execution_count": 8,
     "metadata": {},
     "output_type": "execute_result"
    }
   ],
   "source": [
    "print(train1['first_party_winner'].value_counts())\n",
    "train1.head()"
   ]
  },
  {
   "cell_type": "code",
   "execution_count": 9,
   "id": "37b74315",
   "metadata": {},
   "outputs": [],
   "source": [
    "def parquet_to_csv(parquet_path, save_name):\n",
    "    # Parquet 파일을 불러옵니다.\n",
    "    df = pd.read_parquet(parquet_path)\n",
    "\n",
    "    # DataFrame을 CSV 파일로 저장합니다.\n",
    "    df.to_csv(f'c:/data/project/{save_name}.csv', index=False)  # 'index=False'는 인덱스를 저장하지 않도록 설정합니다.\n",
    "    print(save_name, 'Done.')"
   ]
  },
  {
   "attachments": {},
   "cell_type": "markdown",
   "id": "04a1eace",
   "metadata": {},
   "source": [
    "## 자연어처리"
   ]
  },
  {
   "cell_type": "code",
   "execution_count": 10,
   "id": "ec7fce77",
   "metadata": {},
   "outputs": [
    {
     "data": {
      "text/plain": [
       "0    On June   Phil St Amant a candidate for public...\n",
       "1    Ramon Nelson was riding his bike when he suffe...\n",
       "2    An Alabama state court convicted Billy Joe Mag...\n",
       "3    Victor Linkletter was convicted in state court...\n",
       "4    On April   in Selma Alabama an intruder broke ...\n",
       "Name: facts, dtype: object"
      ]
     },
     "execution_count": 10,
     "metadata": {},
     "output_type": "execute_result"
    }
   ],
   "source": [
    "train_target = pd.DataFrame(train1, columns=['first_party_winner'])\n",
    "df_nlp = pd.DataFrame(train1[['facts']], columns=['facts'])\n",
    "\n",
    "# df_nlp1['facts'] = df_nlp1['facts'].str.replace(r'<[^<>]*>', '', regex=True) # 특수문자 제거\n",
    "df_nlp['facts'] = df_nlp['facts'].str.replace(r'\\d', '', regex=True)       # 숫자 제거\n",
    "df_nlp['facts'] = df_nlp['facts'].str.replace(r'[^\\w\\s]', '', regex=True)\n",
    "\n",
    "# display(df_nlp, train_target)\n",
    "df_nlp['facts'].head()"
   ]
  },
  {
   "cell_type": "code",
   "execution_count": 11,
   "id": "471ee7ca",
   "metadata": {},
   "outputs": [],
   "source": [
    "df_nlp.to_csv('c:/data/project/train_nlp.csv', index=False)"
   ]
  },
  {
   "cell_type": "code",
   "execution_count": 12,
   "id": "352f10ad",
   "metadata": {},
   "outputs": [],
   "source": [
    "# df = pd.read_csv('c:/data/project/train_nlp.csv')\n",
    "# arr = df.values\n",
    "# np.save('c:/data/project/yourfile.npy', arr)"
   ]
  },
  {
   "cell_type": "code",
   "execution_count": 13,
   "id": "02c52ccc",
   "metadata": {},
   "outputs": [
    {
     "data": {
      "text/plain": [
       "first_party_winner\n",
       "1                     1649\n",
       "0                      829\n",
       "Name: count, dtype: int64"
      ]
     },
     "execution_count": 13,
     "metadata": {},
     "output_type": "execute_result"
    }
   ],
   "source": [
    "train_target.value_counts()"
   ]
  },
  {
   "cell_type": "code",
   "execution_count": 14,
   "id": "9ee69c16",
   "metadata": {},
   "outputs": [],
   "source": [
    "# import nltk\n",
    "# nltk.download()"
   ]
  },
  {
   "attachments": {},
   "cell_type": "markdown",
   "id": "885c2a1d",
   "metadata": {},
   "source": [
    "## 사용자 불용어 + 기본 제공 불용어 생성"
   ]
  },
  {
   "cell_type": "code",
   "execution_count": 15,
   "id": "3ccb4b3e",
   "metadata": {},
   "outputs": [],
   "source": [
    "def utils_preprocess_text(text, flg_stemm=False, flg_lemm=True, lst_stopwords=None, user_stopwords=None): \n",
    "## clean (convert to lowercase and remove punctuations and characters and then strip)\n",
    "    text = re.sub(r'[^\\w\\s]', '', str(text).lower().strip())\n",
    "            \n",
    "    ## Tokenize (convert from string to list)\n",
    "    lst_text = text.split()    ## remove Stopwords\n",
    "    if lst_stopwords is not None:\n",
    "        lst_text = [word for word in lst_text if word not in \n",
    "                    lst_stopwords]\n",
    "        \n",
    "    if user_stopwords is not None:\n",
    "        lst_text = [word for word in lst_text if word not in \n",
    "                    user_stopwords]\n",
    "                        \n",
    "    ## Stemming (remove -ing, -ly, ...)\n",
    "    if flg_stemm == True:\n",
    "        ps = nltk.stem.porter.PorterStemmer()\n",
    "        lst_text = [ps.stem(word) for word in lst_text]\n",
    "                \n",
    "    ## Lemmatisation (convert the word into root word)\n",
    "    if flg_lemm == True:\n",
    "        lem = nltk.stem.wordnet.WordNetLemmatizer()\n",
    "        lst_text = [lem.lemmatize(word) for word in lst_text]\n",
    "            \n",
    "    ## back to string from list\n",
    "    text = \" \".join(lst_text)\n",
    "    return text"
   ]
  },
  {
   "cell_type": "code",
   "execution_count": 16,
   "id": "eb4ca83b",
   "metadata": {},
   "outputs": [],
   "source": [
    "# 사용자 불용어 제작\n",
    "user_stopwords = set([\"appeal\",\"filed\",\"affirmed\",\"held\",\"u\",\"state\",\"supreme\",\"federal\",\"circuit\",\"district\", \"law\", \"court\", \"case\", \"plaintiff\", \"defendant\",\n",
    "                \"judge\", \"trial\", \"jurisdiction\", \"evidence\", \"witness\", \"proceeding\",\n",
    "                \"litigation\", \"party\", \"motion\", \"action\", \"suit\", \"claim\", \"issue\",\n",
    "                \"fact\", \"hearing\", \"judgment\", \"order\", \"allegation\", \"argument\",\n",
    "                \"brief\", \"charge\", \"complaint\", \"contract\", \"crime\", \"decision\", \"defense\",\n",
    "                \"document\", \"file\", \"find\", \"hold\", \"injunction\", \"instruction\", \"lawyer\", \"legal\",\n",
    "                \"liability\", \"matter\", \"notice\", \"opinion\", \"plea\", \"point\", \"policy\", \"practice\",\n",
    "                \"present\", \"prosecution\", \"record\", \"rule\", \"sentence\", \"statute\", \"testimony\", \"verdict\",\n",
    "                'james', 'bike', 'named',\"section\", \"act\", \"article\", \"chapter\", \"provision\", \"paragraph\"\n",
    "                \"amendment\", \"code\", \"regulation\", \"statutory\", \"subsection\", \"constitution\", \"legislation\",\n",
    "                \"ordinance\", \"regulatory\", \"rulemaking\", \"title\", \"enactment\", \"resolution\", \"treaty\",\n",
    "                \"administrative\", \"bylaw\",  \"legislative\", \"prescription\", \"ratification\", \"repeal\",\n",
    "                \"statutorily\", \"adjudicate\", \"adjudication\", \"arbitrate\", \"arbitration\", \"conciliation\",\n",
    "                \"decree\", \"litigate\", \"mediation\", \"remand\", \"tribunal\", \"appellate\", \"affirm\", \"overrule\",\n",
    "                \"reversal\", \"vacate\", \"writ\", \"certiorari\", \"mandamus\", \"subpoena\", \"arraignment\",\n",
    "                \"indictment\", \"misdemeanor\", \"probation\", \"restitution\", \"summons\", \"verdict\", \"acquittal\",\n",
    "                \"bail\", \"contempt\", \"conviction\", \"felony\", \"parole\", \"sentence\",\n",
    "                \"attorney\", \"barrister\", \"counsel\", \"juror\", \"litigator\", \"magistrate\", \"prosecutor\",\n",
    "                \"solicitor\", \"stipulation\", \"testator\", \"trustee\", \"executor\", \"heir\", \"lease\", \"lessor\",\n",
    "                \"lessee\", \"mortgagee\", \"mortgagor\", \"assignee\", \"assignor\", \"debtor\", \"creditor\", \"insurer\",\n",
    "                \"insured\", \"beneficiary\", \"fiduciary\", \"principal\", \"agent\"])"
   ]
  },
  {
   "cell_type": "code",
   "execution_count": 17,
   "id": "a0f143f5",
   "metadata": {},
   "outputs": [],
   "source": [
    "# NLTK가 제공 기본 불용어\n",
    "lst_stopwords = nltk.corpus.stopwords.words(\"english\")"
   ]
  },
  {
   "cell_type": "code",
   "execution_count": 18,
   "id": "327d472c",
   "metadata": {},
   "outputs": [
    {
     "data": {
      "text/plain": [
       "153"
      ]
     },
     "execution_count": 18,
     "metadata": {},
     "output_type": "execute_result"
    }
   ],
   "source": [
    "len(user_stopwords)"
   ]
  },
  {
   "cell_type": "code",
   "execution_count": 19,
   "id": "26974761",
   "metadata": {},
   "outputs": [
    {
     "data": {
      "text/html": [
       "<div>\n",
       "<style scoped>\n",
       "    .dataframe tbody tr th:only-of-type {\n",
       "        vertical-align: middle;\n",
       "    }\n",
       "\n",
       "    .dataframe tbody tr th {\n",
       "        vertical-align: top;\n",
       "    }\n",
       "\n",
       "    .dataframe thead th {\n",
       "        text-align: right;\n",
       "    }\n",
       "</style>\n",
       "<table border=\"1\" class=\"dataframe\">\n",
       "  <thead>\n",
       "    <tr style=\"text-align: right;\">\n",
       "      <th></th>\n",
       "      <th>facts</th>\n",
       "      <th>first_party_winner</th>\n",
       "    </tr>\n",
       "  </thead>\n",
       "  <tbody>\n",
       "    <tr>\n",
       "      <th>0</th>\n",
       "      <td>On June   Phil St Amant a candidate for public...</td>\n",
       "      <td>1</td>\n",
       "    </tr>\n",
       "    <tr>\n",
       "      <th>1</th>\n",
       "      <td>Ramon Nelson was riding his bike when he suffe...</td>\n",
       "      <td>0</td>\n",
       "    </tr>\n",
       "    <tr>\n",
       "      <th>2</th>\n",
       "      <td>An Alabama state court convicted Billy Joe Mag...</td>\n",
       "      <td>1</td>\n",
       "    </tr>\n",
       "    <tr>\n",
       "      <th>3</th>\n",
       "      <td>Victor Linkletter was convicted in state court...</td>\n",
       "      <td>0</td>\n",
       "    </tr>\n",
       "    <tr>\n",
       "      <th>4</th>\n",
       "      <td>On April   in Selma Alabama an intruder broke ...</td>\n",
       "      <td>1</td>\n",
       "    </tr>\n",
       "    <tr>\n",
       "      <th>...</th>\n",
       "      <td>...</td>\n",
       "      <td>...</td>\n",
       "    </tr>\n",
       "    <tr>\n",
       "      <th>2473</th>\n",
       "      <td>Congress amended the Clean Air Act through the...</td>\n",
       "      <td>1</td>\n",
       "    </tr>\n",
       "    <tr>\n",
       "      <th>2474</th>\n",
       "      <td>Alliance Bond Fund Inc an investment fund purc...</td>\n",
       "      <td>1</td>\n",
       "    </tr>\n",
       "    <tr>\n",
       "      <th>2475</th>\n",
       "      <td>In  the District Court sentenced Manuel D Pegu...</td>\n",
       "      <td>0</td>\n",
       "    </tr>\n",
       "    <tr>\n",
       "      <th>2476</th>\n",
       "      <td>On March   Enrico St Cyr a lawful permanent re...</td>\n",
       "      <td>0</td>\n",
       "    </tr>\n",
       "    <tr>\n",
       "      <th>2477</th>\n",
       "      <td>Herbert Markman owns the patent to a system th...</td>\n",
       "      <td>0</td>\n",
       "    </tr>\n",
       "  </tbody>\n",
       "</table>\n",
       "<p>2478 rows × 2 columns</p>\n",
       "</div>"
      ],
      "text/plain": [
       "                                                  facts  first_party_winner\n",
       "0     On June   Phil St Amant a candidate for public...                   1\n",
       "1     Ramon Nelson was riding his bike when he suffe...                   0\n",
       "2     An Alabama state court convicted Billy Joe Mag...                   1\n",
       "3     Victor Linkletter was convicted in state court...                   0\n",
       "4     On April   in Selma Alabama an intruder broke ...                   1\n",
       "...                                                 ...                 ...\n",
       "2473  Congress amended the Clean Air Act through the...                   1\n",
       "2474  Alliance Bond Fund Inc an investment fund purc...                   1\n",
       "2475  In  the District Court sentenced Manuel D Pegu...                   0\n",
       "2476  On March   Enrico St Cyr a lawful permanent re...                   0\n",
       "2477  Herbert Markman owns the patent to a system th...                   0\n",
       "\n",
       "[2478 rows x 2 columns]"
      ]
     },
     "execution_count": 19,
     "metadata": {},
     "output_type": "execute_result"
    }
   ],
   "source": [
    "train_nlp = df_nlp.join(train_target)\n",
    "train_nlp"
   ]
  },
  {
   "cell_type": "code",
   "execution_count": 20,
   "id": "f4d8499a",
   "metadata": {},
   "outputs": [],
   "source": [
    "# train_nlp.to_csv('c:/data/project/train_nlp.csv', index=False)"
   ]
  },
  {
   "attachments": {},
   "cell_type": "markdown",
   "id": "85435e58",
   "metadata": {},
   "source": [
    "## Tokenizing"
   ]
  },
  {
   "cell_type": "code",
   "execution_count": 21,
   "id": "5555afea",
   "metadata": {},
   "outputs": [],
   "source": [
    "def freq(data, columns):\n",
    "    corpus = data[columns]\n",
    "    lst_tokens = nltk.tokenize.word_tokenize(corpus.str.cat(sep=\" \"))\n",
    "    # wdTmp = utils_preprocess_text(temp, flg_stemm=False, flg_lemm=True, lst_stopwords=lst_stopwords, user_stopwords=user_stopwords)\n",
    "    \n",
    "\n",
    "    ## unigrams\n",
    "    fig, ax = plt.subplots(1, 1)\n",
    "    fig.suptitle(\"Most frequent words\", fontsize=15)\n",
    "    figure(figsize=(30, 24))\n",
    "    \n",
    "    dic_words_freq = nltk.FreqDist(lst_tokens)\n",
    "    dtf_uni = pd.DataFrame(dic_words_freq.most_common(), columns=[\"Word\",\"Freq\"])\n",
    "    \n",
    "    dtf_uni.set_index(\"Word\").iloc[:30,:].sort_values(by=\"Freq\").plot(\n",
    "                        kind=\"barh\", title=\"Unigrams\", ax=ax, \n",
    "                        legend=False).grid(axis='x')\n",
    "\n",
    "    ax.set(ylabel=None)\n",
    "    plt.show()\n",
    "\n",
    "    return [dic_words_freq, dtf_uni]"
   ]
  },
  {
   "cell_type": "code",
   "execution_count": 22,
   "id": "366a4746",
   "metadata": {},
   "outputs": [
    {
     "data": {
      "image/png": "[encoded data removed]",
      "text/plain": [
       "<Figure size 640x480 with 1 Axes>"
      ]
     },
     "metadata": {},
     "output_type": "display_data"
    },
    {
     "data": {
      "text/plain": [
       "<Figure size 3000x2400 with 0 Axes>"
      ]
     },
     "metadata": {},
     "output_type": "display_data"
    },
    {
     "data": {
      "text/plain": [
       "FreqDist({'the': 32504, 'of': 15052, 'to': 11804, 'and': 10565, 'a': 9615, 'that': 8970, 'in': 6862, 'The': 6279, 'for': 5635, 'was': 5012, ...})"
      ]
     },
     "execution_count": 22,
     "metadata": {},
     "output_type": "execute_result"
    }
   ],
   "source": [
    "freq(train_nlp, 'facts')[0]"
   ]
  },
  {
   "cell_type": "code",
   "execution_count": 23,
   "id": "eb23ef49",
   "metadata": {},
   "outputs": [
    {
     "data": {
      "text/html": [
       "<div>\n",
       "<style scoped>\n",
       "    .dataframe tbody tr th:only-of-type {\n",
       "        vertical-align: middle;\n",
       "    }\n",
       "\n",
       "    .dataframe tbody tr th {\n",
       "        vertical-align: top;\n",
       "    }\n",
       "\n",
       "    .dataframe thead th {\n",
       "        text-align: right;\n",
       "    }\n",
       "</style>\n",
       "<table border=\"1\" class=\"dataframe\">\n",
       "  <thead>\n",
       "    <tr style=\"text-align: right;\">\n",
       "      <th></th>\n",
       "      <th>facts</th>\n",
       "      <th>first_party_winner</th>\n",
       "    </tr>\n",
       "  </thead>\n",
       "  <tbody>\n",
       "    <tr>\n",
       "      <th>0</th>\n",
       "      <td>On June   Phil St Amant a candidate for public...</td>\n",
       "      <td>1</td>\n",
       "    </tr>\n",
       "    <tr>\n",
       "      <th>1</th>\n",
       "      <td>Ramon Nelson was riding his bike when he suffe...</td>\n",
       "      <td>0</td>\n",
       "    </tr>\n",
       "    <tr>\n",
       "      <th>2</th>\n",
       "      <td>An Alabama state court convicted Billy Joe Mag...</td>\n",
       "      <td>1</td>\n",
       "    </tr>\n",
       "    <tr>\n",
       "      <th>3</th>\n",
       "      <td>Victor Linkletter was convicted in state court...</td>\n",
       "      <td>0</td>\n",
       "    </tr>\n",
       "    <tr>\n",
       "      <th>4</th>\n",
       "      <td>On April   in Selma Alabama an intruder broke ...</td>\n",
       "      <td>1</td>\n",
       "    </tr>\n",
       "    <tr>\n",
       "      <th>...</th>\n",
       "      <td>...</td>\n",
       "      <td>...</td>\n",
       "    </tr>\n",
       "    <tr>\n",
       "      <th>2473</th>\n",
       "      <td>Congress amended the Clean Air Act through the...</td>\n",
       "      <td>1</td>\n",
       "    </tr>\n",
       "    <tr>\n",
       "      <th>2474</th>\n",
       "      <td>Alliance Bond Fund Inc an investment fund purc...</td>\n",
       "      <td>1</td>\n",
       "    </tr>\n",
       "    <tr>\n",
       "      <th>2475</th>\n",
       "      <td>In  the District Court sentenced Manuel D Pegu...</td>\n",
       "      <td>0</td>\n",
       "    </tr>\n",
       "    <tr>\n",
       "      <th>2476</th>\n",
       "      <td>On March   Enrico St Cyr a lawful permanent re...</td>\n",
       "      <td>0</td>\n",
       "    </tr>\n",
       "    <tr>\n",
       "      <th>2477</th>\n",
       "      <td>Herbert Markman owns the patent to a system th...</td>\n",
       "      <td>0</td>\n",
       "    </tr>\n",
       "  </tbody>\n",
       "</table>\n",
       "<p>2478 rows × 2 columns</p>\n",
       "</div>"
      ],
      "text/plain": [
       "                                                  facts  first_party_winner\n",
       "0     On June   Phil St Amant a candidate for public...                   1\n",
       "1     Ramon Nelson was riding his bike when he suffe...                   0\n",
       "2     An Alabama state court convicted Billy Joe Mag...                   1\n",
       "3     Victor Linkletter was convicted in state court...                   0\n",
       "4     On April   in Selma Alabama an intruder broke ...                   1\n",
       "...                                                 ...                 ...\n",
       "2473  Congress amended the Clean Air Act through the...                   1\n",
       "2474  Alliance Bond Fund Inc an investment fund purc...                   1\n",
       "2475  In  the District Court sentenced Manuel D Pegu...                   0\n",
       "2476  On March   Enrico St Cyr a lawful permanent re...                   0\n",
       "2477  Herbert Markman owns the patent to a system th...                   0\n",
       "\n",
       "[2478 rows x 2 columns]"
      ]
     },
     "execution_count": 23,
     "metadata": {},
     "output_type": "execute_result"
    }
   ],
   "source": [
    "train_nlp"
   ]
  },
  {
   "cell_type": "code",
   "execution_count": 24,
   "id": "b7b7114d",
   "metadata": {},
   "outputs": [
    {
     "data": {
      "text/html": [
       "<div>\n",
       "<style scoped>\n",
       "    .dataframe tbody tr th:only-of-type {\n",
       "        vertical-align: middle;\n",
       "    }\n",
       "\n",
       "    .dataframe tbody tr th {\n",
       "        vertical-align: top;\n",
       "    }\n",
       "\n",
       "    .dataframe thead th {\n",
       "        text-align: right;\n",
       "    }\n",
       "</style>\n",
       "<table border=\"1\" class=\"dataframe\">\n",
       "  <thead>\n",
       "    <tr style=\"text-align: right;\">\n",
       "      <th></th>\n",
       "      <th>facts</th>\n",
       "      <th>first_party_winner</th>\n",
       "    </tr>\n",
       "  </thead>\n",
       "  <tbody>\n",
       "    <tr>\n",
       "      <th>0</th>\n",
       "      <td>june phil st amant candidate public office mad...</td>\n",
       "      <td>1</td>\n",
       "    </tr>\n",
       "    <tr>\n",
       "      <th>1</th>\n",
       "      <td>ramon nelson riding bike suffered lethal blow ...</td>\n",
       "      <td>0</td>\n",
       "    </tr>\n",
       "    <tr>\n",
       "      <th>2</th>\n",
       "      <td>alabama state court convicted billy joe magwoo...</td>\n",
       "      <td>1</td>\n",
       "    </tr>\n",
       "    <tr>\n",
       "      <th>3</th>\n",
       "      <td>victor linkletter convicted state court eviden...</td>\n",
       "      <td>0</td>\n",
       "    </tr>\n",
       "    <tr>\n",
       "      <th>4</th>\n",
       "      <td>april selma alabama intruder broke apartment d...</td>\n",
       "      <td>1</td>\n",
       "    </tr>\n",
       "    <tr>\n",
       "      <th>...</th>\n",
       "      <td>...</td>\n",
       "      <td>...</td>\n",
       "    </tr>\n",
       "    <tr>\n",
       "      <th>2473</th>\n",
       "      <td>congress amended clean air act energy policy a...</td>\n",
       "      <td>1</td>\n",
       "    </tr>\n",
       "    <tr>\n",
       "      <th>2474</th>\n",
       "      <td>alliance bond fund inc investment fund purchas...</td>\n",
       "      <td>1</td>\n",
       "    </tr>\n",
       "    <tr>\n",
       "      <th>2475</th>\n",
       "      <td>district court sentenced manuel peguero month ...</td>\n",
       "      <td>0</td>\n",
       "    </tr>\n",
       "    <tr>\n",
       "      <th>2476</th>\n",
       "      <td>march enrico st cyr lawful permanent resident ...</td>\n",
       "      <td>0</td>\n",
       "    </tr>\n",
       "    <tr>\n",
       "      <th>2477</th>\n",
       "      <td>herbert markman owns patent system track cloth...</td>\n",
       "      <td>0</td>\n",
       "    </tr>\n",
       "  </tbody>\n",
       "</table>\n",
       "<p>2478 rows × 2 columns</p>\n",
       "</div>"
      ],
      "text/plain": [
       "                                                  facts  first_party_winner\n",
       "0     june phil st amant candidate public office mad...                   1\n",
       "1     ramon nelson riding bike suffered lethal blow ...                   0\n",
       "2     alabama state court convicted billy joe magwoo...                   1\n",
       "3     victor linkletter convicted state court eviden...                   0\n",
       "4     april selma alabama intruder broke apartment d...                   1\n",
       "...                                                 ...                 ...\n",
       "2473  congress amended clean air act energy policy a...                   1\n",
       "2474  alliance bond fund inc investment fund purchas...                   1\n",
       "2475  district court sentenced manuel peguero month ...                   0\n",
       "2476  march enrico st cyr lawful permanent resident ...                   0\n",
       "2477  herbert markman owns patent system track cloth...                   0\n",
       "\n",
       "[2478 rows x 2 columns]"
      ]
     },
     "execution_count": 24,
     "metadata": {},
     "output_type": "execute_result"
    }
   ],
   "source": [
    "train_nlp[\"facts\"] = train_nlp[\"facts\"].apply(lambda x: utils_preprocess_text(x, flg_stemm=False, flg_lemm=True, lst_stopwords=lst_stopwords))\n",
    "train_nlp"
   ]
  },
  {
   "cell_type": "code",
   "execution_count": 25,
   "id": "f2a1e35c",
   "metadata": {},
   "outputs": [],
   "source": [
    "# train_nlp.to_csv('c:/data/project/train_nlp.csv', index=False)"
   ]
  },
  {
   "cell_type": "code",
   "execution_count": 26,
   "id": "8858e2ba",
   "metadata": {},
   "outputs": [
    {
     "data": {
      "image/png": "[encoded data removed]",
      "text/plain": [
       "<Figure size 640x480 with 1 Axes>"
      ]
     },
     "metadata": {},
     "output_type": "display_data"
    },
    {
     "data": {
      "text/plain": [
       "<Figure size 3000x2400 with 0 Axes>"
      ]
     },
     "metadata": {},
     "output_type": "display_data"
    },
    {
     "data": {
      "text/plain": [
       "[FreqDist({'court': 8776, 'district': 3168, 'state': 2793, 'appeal': 2757, 'federal': 1886, 'circuit': 1742, 'act': 1588, 'u': 1446, 'held': 1230, 'claim': 1206, ...}),\n",
       "             Word  Freq\n",
       " 0          court  8776\n",
       " 1       district  3168\n",
       " 2          state  2793\n",
       " 3         appeal  2757\n",
       " 4        federal  1886\n",
       " ...          ...   ...\n",
       " 16873   patentee     1\n",
       " 16874   localize     1\n",
       " 16875   spurious     1\n",
       " 16876   barcoded     1\n",
       " 16877  westviews     1\n",
       " \n",
       " [16878 rows x 2 columns]]"
      ]
     },
     "execution_count": 26,
     "metadata": {},
     "output_type": "execute_result"
    }
   ],
   "source": [
    "freq(train_nlp, 'facts')"
   ]
  },
  {
   "attachments": {},
   "cell_type": "markdown",
   "id": "c5301d46",
   "metadata": {},
   "source": [
    "## N회 미만 불용어 추가"
   ]
  },
  {
   "cell_type": "code",
   "execution_count": 27,
   "id": "f2312ae3",
   "metadata": {},
   "outputs": [],
   "source": [
    "def func_stopwords(wht):\n",
    "    wl_words=[]\n",
    "    for word, freq in wht.most_common():\n",
    "        if freq == 1:\n",
    "            wl_words.append(word)\n",
    "        user_stopwords.update(wl_words)\n",
    "    return user_stopwords"
   ]
  },
  {
   "cell_type": "code",
   "execution_count": 28,
   "id": "7913db73",
   "metadata": {},
   "outputs": [
    {
     "data": {
      "image/png": "[encoded data removed]",
      "text/plain": [
       "<Figure size 640x480 with 1 Axes>"
      ]
     },
     "metadata": {},
     "output_type": "display_data"
    },
    {
     "data": {
      "text/plain": [
       "<Figure size 3000x2400 with 0 Axes>"
      ]
     },
     "metadata": {},
     "output_type": "display_data"
    }
   ],
   "source": [
    "real_freq, _ = freq(train_nlp, 'facts')\n",
    "\n",
    "user_stopwords=func_stopwords(real_freq)"
   ]
  },
  {
   "cell_type": "code",
   "execution_count": 29,
   "id": "331c4fac",
   "metadata": {},
   "outputs": [
    {
     "data": {
      "text/plain": [
       "6207"
      ]
     },
     "execution_count": 29,
     "metadata": {},
     "output_type": "execute_result"
    }
   ],
   "source": [
    "len(user_stopwords)"
   ]
  },
  {
   "cell_type": "code",
   "execution_count": 30,
   "id": "f22aa4ac",
   "metadata": {},
   "outputs": [
    {
     "data": {
      "text/html": [
       "<div>\n",
       "<style scoped>\n",
       "    .dataframe tbody tr th:only-of-type {\n",
       "        vertical-align: middle;\n",
       "    }\n",
       "\n",
       "    .dataframe tbody tr th {\n",
       "        vertical-align: top;\n",
       "    }\n",
       "\n",
       "    .dataframe thead th {\n",
       "        text-align: right;\n",
       "    }\n",
       "</style>\n",
       "<table border=\"1\" class=\"dataframe\">\n",
       "  <thead>\n",
       "    <tr style=\"text-align: right;\">\n",
       "      <th></th>\n",
       "      <th>facts</th>\n",
       "      <th>first_party_winner</th>\n",
       "    </tr>\n",
       "  </thead>\n",
       "  <tbody>\n",
       "    <tr>\n",
       "      <th>0</th>\n",
       "      <td>june phil st amant candidate public office mad...</td>\n",
       "      <td>1</td>\n",
       "    </tr>\n",
       "    <tr>\n",
       "      <th>1</th>\n",
       "      <td>ramon nelson riding suffered lethal blow back ...</td>\n",
       "      <td>0</td>\n",
       "    </tr>\n",
       "    <tr>\n",
       "      <th>2</th>\n",
       "      <td>alabama convicted billy joe magwood murder sen...</td>\n",
       "      <td>1</td>\n",
       "    </tr>\n",
       "    <tr>\n",
       "      <th>3</th>\n",
       "      <td>victor linkletter convicted illegally obtained...</td>\n",
       "      <td>0</td>\n",
       "    </tr>\n",
       "    <tr>\n",
       "      <th>4</th>\n",
       "      <td>april selma alabama intruder broke apartment d...</td>\n",
       "      <td>1</td>\n",
       "    </tr>\n",
       "    <tr>\n",
       "      <th>...</th>\n",
       "      <td>...</td>\n",
       "      <td>...</td>\n",
       "    </tr>\n",
       "    <tr>\n",
       "      <th>2473</th>\n",
       "      <td>congress amended clean air energy effort reduc...</td>\n",
       "      <td>1</td>\n",
       "    </tr>\n",
       "    <tr>\n",
       "      <th>2474</th>\n",
       "      <td>alliance bond fund inc investment fund purchas...</td>\n",
       "      <td>1</td>\n",
       "    </tr>\n",
       "    <tr>\n",
       "      <th>2475</th>\n",
       "      <td>sentenced manuel peguero month imprisonment pl...</td>\n",
       "      <td>0</td>\n",
       "    </tr>\n",
       "    <tr>\n",
       "      <th>2476</th>\n",
       "      <td>march st cyr lawful permanent resident pled gu...</td>\n",
       "      <td>0</td>\n",
       "    </tr>\n",
       "    <tr>\n",
       "      <th>2477</th>\n",
       "      <td>herbert owns patent system track clothing dryc...</td>\n",
       "      <td>0</td>\n",
       "    </tr>\n",
       "  </tbody>\n",
       "</table>\n",
       "<p>2478 rows × 2 columns</p>\n",
       "</div>"
      ],
      "text/plain": [
       "                                                  facts  first_party_winner\n",
       "0     june phil st amant candidate public office mad...                   1\n",
       "1     ramon nelson riding suffered lethal blow back ...                   0\n",
       "2     alabama convicted billy joe magwood murder sen...                   1\n",
       "3     victor linkletter convicted illegally obtained...                   0\n",
       "4     april selma alabama intruder broke apartment d...                   1\n",
       "...                                                 ...                 ...\n",
       "2473  congress amended clean air energy effort reduc...                   1\n",
       "2474  alliance bond fund inc investment fund purchas...                   1\n",
       "2475  sentenced manuel peguero month imprisonment pl...                   0\n",
       "2476  march st cyr lawful permanent resident pled gu...                   0\n",
       "2477  herbert owns patent system track clothing dryc...                   0\n",
       "\n",
       "[2478 rows x 2 columns]"
      ]
     },
     "execution_count": 30,
     "metadata": {},
     "output_type": "execute_result"
    }
   ],
   "source": [
    "train_nlp[\"facts\"] = train_nlp[\"facts\"].apply(lambda x: utils_preprocess_text(x, flg_stemm=False, flg_lemm=True, lst_stopwords=lst_stopwords, user_stopwords=user_stopwords))\n",
    "train_nlp"
   ]
  },
  {
   "cell_type": "code",
   "execution_count": 31,
   "id": "663690de",
   "metadata": {},
   "outputs": [],
   "source": [
    "# train_nlp.to_csv('c:/data/project/train_nlp.csv', index=False)"
   ]
  },
  {
   "cell_type": "code",
   "execution_count": 32,
   "id": "6d57a1e1",
   "metadata": {},
   "outputs": [
    {
     "data": {
      "image/png": "[encoded data removed]",
      "text/plain": [
       "<Figure size 640x480 with 1 Axes>"
      ]
     },
     "metadata": {},
     "output_type": "display_data"
    }
   ],
   "source": [
    "wc = wordcloud.WordCloud(background_color='black', max_words=100, \n",
    "                        max_font_size=35)\n",
    "wc = wc.generate(str(train_nlp))\n",
    "fig = plt.figure(num=1)\n",
    "plt.axis('off')\n",
    "plt.imshow(wc, cmap=None)\n",
    "plt.show()"
   ]
  },
  {
   "cell_type": "code",
   "execution_count": 33,
   "id": "7d326969",
   "metadata": {},
   "outputs": [
    {
     "data": {
      "text/plain": [
       "first_party_winner\n",
       "1    1649\n",
       "0     829\n",
       "Name: count, dtype: int64"
      ]
     },
     "execution_count": 33,
     "metadata": {},
     "output_type": "execute_result"
    }
   ],
   "source": [
    "train_nlp[\"first_party_winner\"].value_counts()"
   ]
  },
  {
   "cell_type": "code",
   "execution_count": 34,
   "id": "c211c205",
   "metadata": {},
   "outputs": [
    {
     "data": {
      "image/png": "[encoded data removed]",
      "text/plain": [
       "<Figure size 640x480 with 1 Axes>"
      ]
     },
     "metadata": {},
     "output_type": "display_data"
    },
    {
     "data": {
      "text/plain": [
       "<Figure size 3000x2400 with 0 Axes>"
      ]
     },
     "metadata": {},
     "output_type": "display_data"
    },
    {
     "data": {
      "text/plain": [
       "[FreqDist({'right': 964, 'amendment': 901, 'denied': 819, 'found': 804, 'argued': 769, 'jury': 766, 'new': 728, 'united': 713, 'violated': 705, 'officer': 688, ...}),\n",
       "               Word  Freq\n",
       " 0            right   964\n",
       " 1        amendment   901\n",
       " 2           denied   819\n",
       " 3            found   804\n",
       " 4           argued   769\n",
       " ...            ...   ...\n",
       " 10661  drycleaning     2\n",
       " 10662     keyboard     2\n",
       " 10663      optical     2\n",
       " 10664     markmans     2\n",
       " 10665     westview     2\n",
       " \n",
       " [10666 rows x 2 columns]]"
      ]
     },
     "execution_count": 34,
     "metadata": {},
     "output_type": "execute_result"
    }
   ],
   "source": [
    "freq(train_nlp, \"facts\")"
   ]
  },
  {
   "attachments": {},
   "cell_type": "markdown",
   "id": "34f5074b",
   "metadata": {},
   "source": [
    "## Preprocessing ENDS && MODELING STARTS"
   ]
  },
  {
   "cell_type": "code",
   "execution_count": 35,
   "id": "bfe227c3",
   "metadata": {},
   "outputs": [
    {
     "data": {
      "text/html": [
       "<div>\n",
       "<style scoped>\n",
       "    .dataframe tbody tr th:only-of-type {\n",
       "        vertical-align: middle;\n",
       "    }\n",
       "\n",
       "    .dataframe tbody tr th {\n",
       "        vertical-align: top;\n",
       "    }\n",
       "\n",
       "    .dataframe thead th {\n",
       "        text-align: right;\n",
       "    }\n",
       "</style>\n",
       "<table border=\"1\" class=\"dataframe\">\n",
       "  <thead>\n",
       "    <tr style=\"text-align: right;\">\n",
       "      <th></th>\n",
       "      <th>facts</th>\n",
       "      <th>first_party_winner</th>\n",
       "      <th>first_party</th>\n",
       "      <th>second_party</th>\n",
       "    </tr>\n",
       "  </thead>\n",
       "  <tbody>\n",
       "    <tr>\n",
       "      <th>0</th>\n",
       "      <td>june phil st amant candidate public office mad...</td>\n",
       "      <td>1</td>\n",
       "      <td>Phil A. St. Amant</td>\n",
       "      <td>Herman A. Thompson</td>\n",
       "    </tr>\n",
       "    <tr>\n",
       "      <th>1</th>\n",
       "      <td>ramon nelson riding suffered lethal blow back ...</td>\n",
       "      <td>0</td>\n",
       "      <td>Stephen Duncan</td>\n",
       "      <td>Lawrence Owens</td>\n",
       "    </tr>\n",
       "    <tr>\n",
       "      <th>2</th>\n",
       "      <td>alabama convicted billy joe magwood murder sen...</td>\n",
       "      <td>1</td>\n",
       "      <td>Billy Joe Magwood</td>\n",
       "      <td>Tony Patterson, Warden, et al.</td>\n",
       "    </tr>\n",
       "    <tr>\n",
       "      <th>3</th>\n",
       "      <td>victor linkletter convicted illegally obtained...</td>\n",
       "      <td>0</td>\n",
       "      <td>Linkletter</td>\n",
       "      <td>Walker</td>\n",
       "    </tr>\n",
       "    <tr>\n",
       "      <th>4</th>\n",
       "      <td>april selma alabama intruder broke apartment d...</td>\n",
       "      <td>1</td>\n",
       "      <td>William Earl Fikes</td>\n",
       "      <td>Alabama</td>\n",
       "    </tr>\n",
       "    <tr>\n",
       "      <th>...</th>\n",
       "      <td>...</td>\n",
       "      <td>...</td>\n",
       "      <td>...</td>\n",
       "      <td>...</td>\n",
       "    </tr>\n",
       "    <tr>\n",
       "      <th>2473</th>\n",
       "      <td>congress amended clean air energy effort reduc...</td>\n",
       "      <td>1</td>\n",
       "      <td>HollyFrontier Cheyenne Refining, LLC, et al.</td>\n",
       "      <td>Renewable Fuels Association, et al.</td>\n",
       "    </tr>\n",
       "    <tr>\n",
       "      <th>2474</th>\n",
       "      <td>alliance bond fund inc investment fund purchas...</td>\n",
       "      <td>1</td>\n",
       "      <td>Grupo Mexicano de Desarrollo, S. A.</td>\n",
       "      <td>Alliance Bond Fund, Inc.</td>\n",
       "    </tr>\n",
       "    <tr>\n",
       "      <th>2475</th>\n",
       "      <td>sentenced manuel peguero month imprisonment pl...</td>\n",
       "      <td>0</td>\n",
       "      <td>Peguero</td>\n",
       "      <td>United States</td>\n",
       "    </tr>\n",
       "    <tr>\n",
       "      <th>2476</th>\n",
       "      <td>march st cyr lawful permanent resident pled gu...</td>\n",
       "      <td>0</td>\n",
       "      <td>Immigration and Naturalization Service</td>\n",
       "      <td>St. Cyr</td>\n",
       "    </tr>\n",
       "    <tr>\n",
       "      <th>2477</th>\n",
       "      <td>herbert owns patent system track clothing dryc...</td>\n",
       "      <td>0</td>\n",
       "      <td>Markman</td>\n",
       "      <td>Westview Instruments, Inc.</td>\n",
       "    </tr>\n",
       "  </tbody>\n",
       "</table>\n",
       "<p>2478 rows × 4 columns</p>\n",
       "</div>"
      ],
      "text/plain": [
       "                                                  facts  first_party_winner  \\\n",
       "0     june phil st amant candidate public office mad...                   1   \n",
       "1     ramon nelson riding suffered lethal blow back ...                   0   \n",
       "2     alabama convicted billy joe magwood murder sen...                   1   \n",
       "3     victor linkletter convicted illegally obtained...                   0   \n",
       "4     april selma alabama intruder broke apartment d...                   1   \n",
       "...                                                 ...                 ...   \n",
       "2473  congress amended clean air energy effort reduc...                   1   \n",
       "2474  alliance bond fund inc investment fund purchas...                   1   \n",
       "2475  sentenced manuel peguero month imprisonment pl...                   0   \n",
       "2476  march st cyr lawful permanent resident pled gu...                   0   \n",
       "2477  herbert owns patent system track clothing dryc...                   0   \n",
       "\n",
       "                                       first_party  \\\n",
       "0                                Phil A. St. Amant   \n",
       "1                                   Stephen Duncan   \n",
       "2                                Billy Joe Magwood   \n",
       "3                                       Linkletter   \n",
       "4                               William Earl Fikes   \n",
       "...                                            ...   \n",
       "2473  HollyFrontier Cheyenne Refining, LLC, et al.   \n",
       "2474           Grupo Mexicano de Desarrollo, S. A.   \n",
       "2475                                       Peguero   \n",
       "2476        Immigration and Naturalization Service   \n",
       "2477                                       Markman   \n",
       "\n",
       "                             second_party  \n",
       "0                      Herman A. Thompson  \n",
       "1                          Lawrence Owens  \n",
       "2          Tony Patterson, Warden, et al.  \n",
       "3                                  Walker  \n",
       "4                                 Alabama  \n",
       "...                                   ...  \n",
       "2473  Renewable Fuels Association, et al.  \n",
       "2474             Alliance Bond Fund, Inc.  \n",
       "2475                        United States  \n",
       "2476                              St. Cyr  \n",
       "2477           Westview Instruments, Inc.  \n",
       "\n",
       "[2478 rows x 4 columns]"
      ]
     },
     "execution_count": 35,
     "metadata": {},
     "output_type": "execute_result"
    }
   ],
   "source": [
    "train_nlp = pd.concat([train_nlp,train['first_party'],train['second_party']],axis=1, join='inner')\n",
    "train_nlp"
   ]
  },
  {
   "cell_type": "code",
   "execution_count": 36,
   "id": "df88cdca",
   "metadata": {},
   "outputs": [],
   "source": [
    "vectorizer = TfidfVectorizer()\n",
    "\n",
    "def get_vector(vectorizer, df, train_mode):\n",
    "    if train_mode:\n",
    "        X_facts = vectorizer.fit_transform(df['facts'])\n",
    "    else:\n",
    "        X_facts = vectorizer.transform(df['facts'])\n",
    "    X_party1 = vectorizer.transform(df['facts'])\n",
    "    X_party2 = vectorizer.transform(df['facts'])\n",
    "    \n",
    "    X = np.concatenate([X_party1.todense(), X_party2.todense(), X_facts.todense()], axis=1)\n",
    "    return X\n",
    "\n",
    "X = get_vector(vectorizer, train_nlp, True)\n",
    "ylabel = train_nlp[\"first_party_winner\"]"
   ]
  },
  {
   "cell_type": "code",
   "execution_count": 37,
   "id": "0a3482fb",
   "metadata": {},
   "outputs": [
    {
     "data": {
      "text/plain": [
       "matrix([[0., 0., 0., ..., 0., 0., 0.],\n",
       "        [0., 0., 0., ..., 0., 0., 0.],\n",
       "        [0., 0., 0., ..., 0., 0., 0.],\n",
       "        ...,\n",
       "        [0., 0., 0., ..., 0., 0., 0.],\n",
       "        [0., 0., 0., ..., 0., 0., 0.],\n",
       "        [0., 0., 0., ..., 0., 0., 0.]])"
      ]
     },
     "execution_count": 37,
     "metadata": {},
     "output_type": "execute_result"
    }
   ],
   "source": [
    "from sklearn.model_selection import train_test_split\n",
    "\n",
    "X_train, X_eval, y_train, y_eval = train_test_split(X, ylabel, test_size=0.25, random_state=11)\n",
    "X"
   ]
  },
  {
   "cell_type": "code",
   "execution_count": 38,
   "id": "c1ca3d9a",
   "metadata": {},
   "outputs": [],
   "source": [
    "# np.save('c:/data/project/yourfile.npy', np.array(X))"
   ]
  },
  {
   "cell_type": "code",
   "execution_count": 39,
   "id": "61ebae4a",
   "metadata": {},
   "outputs": [
    {
     "data": {
      "text/html": [
       "<div>\n",
       "<style scoped>\n",
       "    .dataframe tbody tr th:only-of-type {\n",
       "        vertical-align: middle;\n",
       "    }\n",
       "\n",
       "    .dataframe tbody tr th {\n",
       "        vertical-align: top;\n",
       "    }\n",
       "\n",
       "    .dataframe thead th {\n",
       "        text-align: right;\n",
       "    }\n",
       "</style>\n",
       "<table border=\"1\" class=\"dataframe\">\n",
       "  <thead>\n",
       "    <tr style=\"text-align: right;\">\n",
       "      <th></th>\n",
       "      <th>first_party_winner</th>\n",
       "    </tr>\n",
       "  </thead>\n",
       "  <tbody>\n",
       "    <tr>\n",
       "      <th>0</th>\n",
       "      <td>1</td>\n",
       "    </tr>\n",
       "    <tr>\n",
       "      <th>1</th>\n",
       "      <td>0</td>\n",
       "    </tr>\n",
       "    <tr>\n",
       "      <th>2</th>\n",
       "      <td>1</td>\n",
       "    </tr>\n",
       "    <tr>\n",
       "      <th>3</th>\n",
       "      <td>0</td>\n",
       "    </tr>\n",
       "    <tr>\n",
       "      <th>4</th>\n",
       "      <td>1</td>\n",
       "    </tr>\n",
       "    <tr>\n",
       "      <th>...</th>\n",
       "      <td>...</td>\n",
       "    </tr>\n",
       "    <tr>\n",
       "      <th>2473</th>\n",
       "      <td>1</td>\n",
       "    </tr>\n",
       "    <tr>\n",
       "      <th>2474</th>\n",
       "      <td>1</td>\n",
       "    </tr>\n",
       "    <tr>\n",
       "      <th>2475</th>\n",
       "      <td>0</td>\n",
       "    </tr>\n",
       "    <tr>\n",
       "      <th>2476</th>\n",
       "      <td>0</td>\n",
       "    </tr>\n",
       "    <tr>\n",
       "      <th>2477</th>\n",
       "      <td>0</td>\n",
       "    </tr>\n",
       "  </tbody>\n",
       "</table>\n",
       "<p>2478 rows × 1 columns</p>\n",
       "</div>"
      ],
      "text/plain": [
       "      first_party_winner\n",
       "0                      1\n",
       "1                      0\n",
       "2                      1\n",
       "3                      0\n",
       "4                      1\n",
       "...                  ...\n",
       "2473                   1\n",
       "2474                   1\n",
       "2475                   0\n",
       "2476                   0\n",
       "2477                   0\n",
       "\n",
       "[2478 rows x 1 columns]"
      ]
     },
     "execution_count": 39,
     "metadata": {},
     "output_type": "execute_result"
    }
   ],
   "source": [
    "train_target"
   ]
  },
  {
   "cell_type": "code",
   "execution_count": 40,
   "id": "588e3d7e",
   "metadata": {},
   "outputs": [],
   "source": [
    "# pip install optuna"
   ]
  },
  {
   "attachments": {},
   "cell_type": "markdown",
   "id": "298b0eb1",
   "metadata": {},
   "source": [
    "#LogisticsREGRESSION"
   ]
  },
  {
   "cell_type": "code",
   "execution_count": 41,
   "id": "a4c71c88",
   "metadata": {},
   "outputs": [
    {
     "name": "stdout",
     "output_type": "stream",
     "text": [
      "Cross-validation scores:  [0.60645161 0.60215054 0.59698276 0.625     ]\n",
      "Average cross-validation score:  0.607646227289581\n"
     ]
    }
   ],
   "source": [
    "lr = LogisticRegression(solver='liblinear', class_weight = 'balanced')\n",
    "scores = cross_val_score(lr, np.asarray(X_train), y_train, cv=4)\n",
    "print(\"Cross-validation scores: \", scores)\n",
    "print(\"Average cross-validation score: \", scores.mean())"
   ]
  },
  {
   "cell_type": "code",
   "execution_count": 42,
   "id": "d7970ea3",
   "metadata": {},
   "outputs": [
    {
     "data": {
      "text/html": [
       "<style>#sk-container-id-1 {color: black;background-color: white;}#sk-container-id-1 pre{padding: 0;}#sk-container-id-1 div.sk-toggleable {background-color: white;}#sk-container-id-1 label.sk-toggleable__label {cursor: pointer;display: block;width: 100%;margin-bottom: 0;padding: 0.3em;box-sizing: border-box;text-align: center;}#sk-container-id-1 label.sk-toggleable__label-arrow:before {content: \"▸\";float: left;margin-right: 0.25em;color: #696969;}#sk-container-id-1 label.sk-toggleable__label-arrow:hover:before {color: black;}#sk-container-id-1 div.sk-estimator:hover label.sk-toggleable__label-arrow:before {color: black;}#sk-container-id-1 div.sk-toggleable__content {max-height: 0;max-width: 0;overflow: hidden;text-align: left;background-color: #f0f8ff;}#sk-container-id-1 div.sk-toggleable__content pre {margin: 0.2em;color: black;border-radius: 0.25em;background-color: #f0f8ff;}#sk-container-id-1 input.sk-toggleable__control:checked~div.sk-toggleable__content {max-height: 200px;max-width: 100%;overflow: auto;}#sk-container-id-1 input.sk-toggleable__control:checked~label.sk-toggleable__label-arrow:before {content: \"▾\";}#sk-container-id-1 div.sk-estimator input.sk-toggleable__control:checked~label.sk-toggleable__label {background-color: #d4ebff;}#sk-container-id-1 div.sk-label input.sk-toggleable__control:checked~label.sk-toggleable__label {background-color: #d4ebff;}#sk-container-id-1 input.sk-hidden--visually {border: 0;clip: rect(1px 1px 1px 1px);clip: rect(1px, 1px, 1px, 1px);height: 1px;margin: -1px;overflow: hidden;padding: 0;position: absolute;width: 1px;}#sk-container-id-1 div.sk-estimator {font-family: monospace;background-color: #f0f8ff;border: 1px dotted black;border-radius: 0.25em;box-sizing: border-box;margin-bottom: 0.5em;}#sk-container-id-1 div.sk-estimator:hover {background-color: #d4ebff;}#sk-container-id-1 div.sk-parallel-item::after {content: \"\";width: 100%;border-bottom: 1px solid gray;flex-grow: 1;}#sk-container-id-1 div.sk-label:hover label.sk-toggleable__label {background-color: #d4ebff;}#sk-container-id-1 div.sk-serial::before {content: \"\";position: absolute;border-left: 1px solid gray;box-sizing: border-box;top: 0;bottom: 0;left: 50%;z-index: 0;}#sk-container-id-1 div.sk-serial {display: flex;flex-direction: column;align-items: center;background-color: white;padding-right: 0.2em;padding-left: 0.2em;position: relative;}#sk-container-id-1 div.sk-item {position: relative;z-index: 1;}#sk-container-id-1 div.sk-parallel {display: flex;align-items: stretch;justify-content: center;background-color: white;position: relative;}#sk-container-id-1 div.sk-item::before, #sk-container-id-1 div.sk-parallel-item::before {content: \"\";position: absolute;border-left: 1px solid gray;box-sizing: border-box;top: 0;bottom: 0;left: 50%;z-index: -1;}#sk-container-id-1 div.sk-parallel-item {display: flex;flex-direction: column;z-index: 1;position: relative;background-color: white;}#sk-container-id-1 div.sk-parallel-item:first-child::after {align-self: flex-end;width: 50%;}#sk-container-id-1 div.sk-parallel-item:last-child::after {align-self: flex-start;width: 50%;}#sk-container-id-1 div.sk-parallel-item:only-child::after {width: 0;}#sk-container-id-1 div.sk-dashed-wrapped {border: 1px dashed gray;margin: 0 0.4em 0.5em 0.4em;box-sizing: border-box;padding-bottom: 0.4em;background-color: white;}#sk-container-id-1 div.sk-label label {font-family: monospace;font-weight: bold;display: inline-block;line-height: 1.2em;}#sk-container-id-1 div.sk-label-container {text-align: center;}#sk-container-id-1 div.sk-container {/* jupyter's `normalize.less` sets `[hidden] { display: none; }` but bootstrap.min.css set `[hidden] { display: none !important; }` so we also need the `!important` here to be able to override the default hidden behavior on the sphinx rendered scikit-learn.org. See: https://github.com/scikit-learn/scikit-learn/issues/21755 */display: inline-block !important;position: relative;}#sk-container-id-1 div.sk-text-repr-fallback {display: none;}</style><div id=\"sk-container-id-1\" class=\"sk-top-container\"><div class=\"sk-text-repr-fallback\"><pre>LogisticRegression(class_weight=&#x27;balanced&#x27;, solver=&#x27;liblinear&#x27;)</pre><b>In a Jupyter environment, please rerun this cell to show the HTML representation or trust the notebook. <br />On GitHub, the HTML representation is unable to render, please try loading this page with nbviewer.org.</b></div><div class=\"sk-container\" hidden><div class=\"sk-item\"><div class=\"sk-estimator sk-toggleable\"><input class=\"sk-toggleable__control sk-hidden--visually\" id=\"sk-estimator-id-1\" type=\"checkbox\" checked><label for=\"sk-estimator-id-1\" class=\"sk-toggleable__label sk-toggleable__label-arrow\">LogisticRegression</label><div class=\"sk-toggleable__content\"><pre>LogisticRegression(class_weight=&#x27;balanced&#x27;, solver=&#x27;liblinear&#x27;)</pre></div></div></div></div></div>"
      ],
      "text/plain": [
       "LogisticRegression(class_weight='balanced', solver='liblinear')"
      ]
     },
     "execution_count": 42,
     "metadata": {},
     "output_type": "execute_result"
    }
   ],
   "source": [
    "lr.fit(np.asarray(X_train), y_train)"
   ]
  },
  {
   "cell_type": "code",
   "execution_count": 43,
   "id": "15e00fe1",
   "metadata": {},
   "outputs": [
    {
     "name": "stdout",
     "output_type": "stream",
     "text": [
      "LR Accuracy : 0.567742\n"
     ]
    }
   ],
   "source": [
    "print(\"LR Accuracy : %f\" % lr.score(np.asarray(X_eval), y_eval))"
   ]
  },
  {
   "cell_type": "code",
   "execution_count": 44,
   "id": "a4da96ab",
   "metadata": {},
   "outputs": [
    {
     "name": "stdout",
     "output_type": "stream",
     "text": [
      "Cross-validation scores:  [0.60645161 0.60215054 0.59698276 0.625     ]\n",
      "Average cross-validation score:  0.607646227289581\n"
     ]
    }
   ],
   "source": [
    "print(\"Cross-validation scores: \", scores)\n",
    "print(\"Average cross-validation score: \", scores.mean())"
   ]
  },
  {
   "cell_type": "code",
   "execution_count": 45,
   "id": "8d6d04a3",
   "metadata": {},
   "outputs": [
    {
     "data": {
      "text/plain": [
       "1    430\n",
       "0    190\n",
       "Name: count, dtype: int64"
      ]
     },
     "execution_count": 45,
     "metadata": {},
     "output_type": "execute_result"
    }
   ],
   "source": [
    "\n",
    "test_lr = pd.DataFrame(lr.predict(np.asarray(X_eval)))\n",
    "test_lr.value_counts()"
   ]
  },
  {
   "attachments": {},
   "cell_type": "markdown",
   "id": "13eeab11",
   "metadata": {},
   "source": [
    "##XGBoost"
   ]
  },
  {
   "cell_type": "code",
   "execution_count": 46,
   "id": "7b9db6a6",
   "metadata": {},
   "outputs": [],
   "source": [
    "# !pip install xgboost"
   ]
  },
  {
   "cell_type": "code",
   "execution_count": 47,
   "id": "ba44f97a",
   "metadata": {},
   "outputs": [
    {
     "name": "stdout",
     "output_type": "stream",
     "text": [
      "[10:12:56] WARNING: C:\\buildkite-agent\\builds\\buildkite-windows-cpu-autoscaling-group-i-07593ffd91cd9da33-1\\xgboost\\xgboost-ci-windows\\src\\learner.cc:767: \n",
      "Parameters: { \"max_delta_step\", \"max_depth\" } are not used.\n",
      "\n",
      "[10:12:59] WARNING: C:\\buildkite-agent\\builds\\buildkite-windows-cpu-autoscaling-group-i-07593ffd91cd9da33-1\\xgboost\\xgboost-ci-windows\\src\\learner.cc:767: \n",
      "Parameters: { \"max_delta_step\", \"max_depth\" } are not used.\n",
      "\n",
      "[10:13:03] WARNING: C:\\buildkite-agent\\builds\\buildkite-windows-cpu-autoscaling-group-i-07593ffd91cd9da33-1\\xgboost\\xgboost-ci-windows\\src\\learner.cc:767: \n",
      "Parameters: { \"max_delta_step\", \"max_depth\" } are not used.\n",
      "\n",
      "[10:13:06] WARNING: C:\\buildkite-agent\\builds\\buildkite-windows-cpu-autoscaling-group-i-07593ffd91cd9da33-1\\xgboost\\xgboost-ci-windows\\src\\learner.cc:767: \n",
      "Parameters: { \"max_delta_step\", \"max_depth\" } are not used.\n",
      "\n",
      "[10:13:10] WARNING: C:\\buildkite-agent\\builds\\buildkite-windows-cpu-autoscaling-group-i-07593ffd91cd9da33-1\\xgboost\\xgboost-ci-windows\\src\\learner.cc:767: \n",
      "Parameters: { \"max_delta_step\", \"max_depth\" } are not used.\n",
      "\n",
      "[10:13:17] WARNING: C:\\buildkite-agent\\builds\\buildkite-windows-cpu-autoscaling-group-i-07593ffd91cd9da33-1\\xgboost\\xgboost-ci-windows\\src\\learner.cc:767: \n",
      "Parameters: { \"max_delta_step\", \"max_depth\" } are not used.\n",
      "\n",
      "[10:13:25] WARNING: C:\\buildkite-agent\\builds\\buildkite-windows-cpu-autoscaling-group-i-07593ffd91cd9da33-1\\xgboost\\xgboost-ci-windows\\src\\learner.cc:767: \n",
      "Parameters: { \"max_delta_step\", \"max_depth\" } are not used.\n",
      "\n",
      "[10:13:34] WARNING: C:\\buildkite-agent\\builds\\buildkite-windows-cpu-autoscaling-group-i-07593ffd91cd9da33-1\\xgboost\\xgboost-ci-windows\\src\\learner.cc:767: \n",
      "Parameters: { \"max_delta_step\", \"max_depth\" } are not used.\n",
      "\n",
      "[10:13:44] WARNING: C:\\buildkite-agent\\builds\\buildkite-windows-cpu-autoscaling-group-i-07593ffd91cd9da33-1\\xgboost\\xgboost-ci-windows\\src\\learner.cc:767: \n",
      "Parameters: { \"max_delta_step\", \"max_depth\" } are not used.\n",
      "\n",
      "[10:13:57] WARNING: C:\\buildkite-agent\\builds\\buildkite-windows-cpu-autoscaling-group-i-07593ffd91cd9da33-1\\xgboost\\xgboost-ci-windows\\src\\learner.cc:767: \n",
      "Parameters: { \"max_delta_step\", \"max_depth\" } are not used.\n",
      "\n",
      "[10:14:10] WARNING: C:\\buildkite-agent\\builds\\buildkite-windows-cpu-autoscaling-group-i-07593ffd91cd9da33-1\\xgboost\\xgboost-ci-windows\\src\\learner.cc:767: \n",
      "Parameters: { \"max_delta_step\", \"max_depth\" } are not used.\n",
      "\n",
      "[10:14:23] WARNING: C:\\buildkite-agent\\builds\\buildkite-windows-cpu-autoscaling-group-i-07593ffd91cd9da33-1\\xgboost\\xgboost-ci-windows\\src\\learner.cc:767: \n",
      "Parameters: { \"max_delta_step\", \"max_depth\" } are not used.\n",
      "\n",
      "[10:14:36] WARNING: C:\\buildkite-agent\\builds\\buildkite-windows-cpu-autoscaling-group-i-07593ffd91cd9da33-1\\xgboost\\xgboost-ci-windows\\src\\learner.cc:767: \n",
      "Parameters: { \"max_delta_step\", \"max_depth\" } are not used.\n",
      "\n",
      "[10:14:40] WARNING: C:\\buildkite-agent\\builds\\buildkite-windows-cpu-autoscaling-group-i-07593ffd91cd9da33-1\\xgboost\\xgboost-ci-windows\\src\\learner.cc:767: \n",
      "Parameters: { \"max_delta_step\", \"max_depth\" } are not used.\n",
      "\n",
      "[10:14:44] WARNING: C:\\buildkite-agent\\builds\\buildkite-windows-cpu-autoscaling-group-i-07593ffd91cd9da33-1\\xgboost\\xgboost-ci-windows\\src\\learner.cc:767: \n",
      "Parameters: { \"max_delta_step\", \"max_depth\" } are not used.\n",
      "\n",
      "[10:14:49] WARNING: C:\\buildkite-agent\\builds\\buildkite-windows-cpu-autoscaling-group-i-07593ffd91cd9da33-1\\xgboost\\xgboost-ci-windows\\src\\learner.cc:767: \n",
      "Parameters: { \"max_delta_step\", \"max_depth\" } are not used.\n",
      "\n",
      "[10:14:53] WARNING: C:\\buildkite-agent\\builds\\buildkite-windows-cpu-autoscaling-group-i-07593ffd91cd9da33-1\\xgboost\\xgboost-ci-windows\\src\\learner.cc:767: \n",
      "Parameters: { \"max_delta_step\", \"max_depth\" } are not used.\n",
      "\n",
      "[10:15:01] WARNING: C:\\buildkite-agent\\builds\\buildkite-windows-cpu-autoscaling-group-i-07593ffd91cd9da33-1\\xgboost\\xgboost-ci-windows\\src\\learner.cc:767: \n",
      "Parameters: { \"max_delta_step\", \"max_depth\" } are not used.\n",
      "\n",
      "[10:15:10] WARNING: C:\\buildkite-agent\\builds\\buildkite-windows-cpu-autoscaling-group-i-07593ffd91cd9da33-1\\xgboost\\xgboost-ci-windows\\src\\learner.cc:767: \n",
      "Parameters: { \"max_delta_step\", \"max_depth\" } are not used.\n",
      "\n",
      "[10:15:19] WARNING: C:\\buildkite-agent\\builds\\buildkite-windows-cpu-autoscaling-group-i-07593ffd91cd9da33-1\\xgboost\\xgboost-ci-windows\\src\\learner.cc:767: \n",
      "Parameters: { \"max_delta_step\", \"max_depth\" } are not used.\n",
      "\n",
      "[10:15:27] WARNING: C:\\buildkite-agent\\builds\\buildkite-windows-cpu-autoscaling-group-i-07593ffd91cd9da33-1\\xgboost\\xgboost-ci-windows\\src\\learner.cc:767: \n",
      "Parameters: { \"max_delta_step\", \"max_depth\" } are not used.\n",
      "\n",
      "[10:15:39] WARNING: C:\\buildkite-agent\\builds\\buildkite-windows-cpu-autoscaling-group-i-07593ffd91cd9da33-1\\xgboost\\xgboost-ci-windows\\src\\learner.cc:767: \n",
      "Parameters: { \"max_delta_step\", \"max_depth\" } are not used.\n",
      "\n",
      "[10:15:51] WARNING: C:\\buildkite-agent\\builds\\buildkite-windows-cpu-autoscaling-group-i-07593ffd91cd9da33-1\\xgboost\\xgboost-ci-windows\\src\\learner.cc:767: \n",
      "Parameters: { \"max_delta_step\", \"max_depth\" } are not used.\n",
      "\n",
      "[10:16:03] WARNING: C:\\buildkite-agent\\builds\\buildkite-windows-cpu-autoscaling-group-i-07593ffd91cd9da33-1\\xgboost\\xgboost-ci-windows\\src\\learner.cc:767: \n",
      "Parameters: { \"max_delta_step\", \"max_depth\" } are not used.\n",
      "\n",
      "[10:16:15] WARNING: C:\\buildkite-agent\\builds\\buildkite-windows-cpu-autoscaling-group-i-07593ffd91cd9da33-1\\xgboost\\xgboost-ci-windows\\src\\learner.cc:767: \n",
      "Parameters: { \"max_delta_step\", \"max_depth\" } are not used.\n",
      "\n",
      "[10:16:19] WARNING: C:\\buildkite-agent\\builds\\buildkite-windows-cpu-autoscaling-group-i-07593ffd91cd9da33-1\\xgboost\\xgboost-ci-windows\\src\\learner.cc:767: \n",
      "Parameters: { \"max_delta_step\", \"max_depth\" } are not used.\n",
      "\n",
      "[10:16:23] WARNING: C:\\buildkite-agent\\builds\\buildkite-windows-cpu-autoscaling-group-i-07593ffd91cd9da33-1\\xgboost\\xgboost-ci-windows\\src\\learner.cc:767: \n",
      "Parameters: { \"max_delta_step\", \"max_depth\" } are not used.\n",
      "\n",
      "[10:16:27] WARNING: C:\\buildkite-agent\\builds\\buildkite-windows-cpu-autoscaling-group-i-07593ffd91cd9da33-1\\xgboost\\xgboost-ci-windows\\src\\learner.cc:767: \n",
      "Parameters: { \"max_delta_step\", \"max_depth\" } are not used.\n",
      "\n",
      "[10:16:31] WARNING: C:\\buildkite-agent\\builds\\buildkite-windows-cpu-autoscaling-group-i-07593ffd91cd9da33-1\\xgboost\\xgboost-ci-windows\\src\\learner.cc:767: \n",
      "Parameters: { \"max_delta_step\", \"max_depth\" } are not used.\n",
      "\n",
      "[10:16:38] WARNING: C:\\buildkite-agent\\builds\\buildkite-windows-cpu-autoscaling-group-i-07593ffd91cd9da33-1\\xgboost\\xgboost-ci-windows\\src\\learner.cc:767: \n",
      "Parameters: { \"max_delta_step\", \"max_depth\" } are not used.\n",
      "\n",
      "[10:16:46] WARNING: C:\\buildkite-agent\\builds\\buildkite-windows-cpu-autoscaling-group-i-07593ffd91cd9da33-1\\xgboost\\xgboost-ci-windows\\src\\learner.cc:767: \n",
      "Parameters: { \"max_delta_step\", \"max_depth\" } are not used.\n",
      "\n",
      "[10:16:54] WARNING: C:\\buildkite-agent\\builds\\buildkite-windows-cpu-autoscaling-group-i-07593ffd91cd9da33-1\\xgboost\\xgboost-ci-windows\\src\\learner.cc:767: \n",
      "Parameters: { \"max_delta_step\", \"max_depth\" } are not used.\n",
      "\n",
      "[10:17:02] WARNING: C:\\buildkite-agent\\builds\\buildkite-windows-cpu-autoscaling-group-i-07593ffd91cd9da33-1\\xgboost\\xgboost-ci-windows\\src\\learner.cc:767: \n",
      "Parameters: { \"max_delta_step\", \"max_depth\" } are not used.\n",
      "\n",
      "[10:17:15] WARNING: C:\\buildkite-agent\\builds\\buildkite-windows-cpu-autoscaling-group-i-07593ffd91cd9da33-1\\xgboost\\xgboost-ci-windows\\src\\learner.cc:767: \n",
      "Parameters: { \"max_delta_step\", \"max_depth\" } are not used.\n",
      "\n",
      "[10:17:28] WARNING: C:\\buildkite-agent\\builds\\buildkite-windows-cpu-autoscaling-group-i-07593ffd91cd9da33-1\\xgboost\\xgboost-ci-windows\\src\\learner.cc:767: \n",
      "Parameters: { \"max_delta_step\", \"max_depth\" } are not used.\n",
      "\n",
      "[10:17:42] WARNING: C:\\buildkite-agent\\builds\\buildkite-windows-cpu-autoscaling-group-i-07593ffd91cd9da33-1\\xgboost\\xgboost-ci-windows\\src\\learner.cc:767: \n",
      "Parameters: { \"max_delta_step\", \"max_depth\" } are not used.\n",
      "\n",
      "[10:17:54] WARNING: C:\\buildkite-agent\\builds\\buildkite-windows-cpu-autoscaling-group-i-07593ffd91cd9da33-1\\xgboost\\xgboost-ci-windows\\src\\learner.cc:767: \n",
      "Parameters: { \"max_delta_step\", \"max_depth\" } are not used.\n",
      "\n",
      "[10:17:58] WARNING: C:\\buildkite-agent\\builds\\buildkite-windows-cpu-autoscaling-group-i-07593ffd91cd9da33-1\\xgboost\\xgboost-ci-windows\\src\\learner.cc:767: \n",
      "Parameters: { \"max_delta_step\", \"max_depth\" } are not used.\n",
      "\n",
      "[10:18:02] WARNING: C:\\buildkite-agent\\builds\\buildkite-windows-cpu-autoscaling-group-i-07593ffd91cd9da33-1\\xgboost\\xgboost-ci-windows\\src\\learner.cc:767: \n",
      "Parameters: { \"max_delta_step\", \"max_depth\" } are not used.\n",
      "\n",
      "[10:18:05] WARNING: C:\\buildkite-agent\\builds\\buildkite-windows-cpu-autoscaling-group-i-07593ffd91cd9da33-1\\xgboost\\xgboost-ci-windows\\src\\learner.cc:767: \n",
      "Parameters: { \"max_delta_step\", \"max_depth\" } are not used.\n",
      "\n",
      "[10:18:08] WARNING: C:\\buildkite-agent\\builds\\buildkite-windows-cpu-autoscaling-group-i-07593ffd91cd9da33-1\\xgboost\\xgboost-ci-windows\\src\\learner.cc:767: \n",
      "Parameters: { \"max_delta_step\", \"max_depth\" } are not used.\n",
      "\n",
      "[10:18:16] WARNING: C:\\buildkite-agent\\builds\\buildkite-windows-cpu-autoscaling-group-i-07593ffd91cd9da33-1\\xgboost\\xgboost-ci-windows\\src\\learner.cc:767: \n",
      "Parameters: { \"max_delta_step\", \"max_depth\" } are not used.\n",
      "\n",
      "[10:18:24] WARNING: C:\\buildkite-agent\\builds\\buildkite-windows-cpu-autoscaling-group-i-07593ffd91cd9da33-1\\xgboost\\xgboost-ci-windows\\src\\learner.cc:767: \n",
      "Parameters: { \"max_delta_step\", \"max_depth\" } are not used.\n",
      "\n",
      "[10:18:31] WARNING: C:\\buildkite-agent\\builds\\buildkite-windows-cpu-autoscaling-group-i-07593ffd91cd9da33-1\\xgboost\\xgboost-ci-windows\\src\\learner.cc:767: \n",
      "Parameters: { \"max_delta_step\", \"max_depth\" } are not used.\n",
      "\n",
      "[10:18:38] WARNING: C:\\buildkite-agent\\builds\\buildkite-windows-cpu-autoscaling-group-i-07593ffd91cd9da33-1\\xgboost\\xgboost-ci-windows\\src\\learner.cc:767: \n",
      "Parameters: { \"max_delta_step\", \"max_depth\" } are not used.\n",
      "\n",
      "[10:18:49] WARNING: C:\\buildkite-agent\\builds\\buildkite-windows-cpu-autoscaling-group-i-07593ffd91cd9da33-1\\xgboost\\xgboost-ci-windows\\src\\learner.cc:767: \n",
      "Parameters: { \"max_delta_step\", \"max_depth\" } are not used.\n",
      "\n",
      "[10:19:00] WARNING: C:\\buildkite-agent\\builds\\buildkite-windows-cpu-autoscaling-group-i-07593ffd91cd9da33-1\\xgboost\\xgboost-ci-windows\\src\\learner.cc:767: \n",
      "Parameters: { \"max_delta_step\", \"max_depth\" } are not used.\n",
      "\n",
      "[10:19:11] WARNING: C:\\buildkite-agent\\builds\\buildkite-windows-cpu-autoscaling-group-i-07593ffd91cd9da33-1\\xgboost\\xgboost-ci-windows\\src\\learner.cc:767: \n",
      "Parameters: { \"max_delta_step\", \"max_depth\" } are not used.\n",
      "\n",
      "[10:19:23] WARNING: C:\\buildkite-agent\\builds\\buildkite-windows-cpu-autoscaling-group-i-07593ffd91cd9da33-1\\xgboost\\xgboost-ci-windows\\src\\learner.cc:767: \n",
      "Parameters: { \"max_delta_step\", \"max_depth\" } are not used.\n",
      "\n",
      "[10:19:27] WARNING: C:\\buildkite-agent\\builds\\buildkite-windows-cpu-autoscaling-group-i-07593ffd91cd9da33-1\\xgboost\\xgboost-ci-windows\\src\\learner.cc:767: \n",
      "Parameters: { \"max_delta_step\", \"max_depth\" } are not used.\n",
      "\n",
      "[10:19:31] WARNING: C:\\buildkite-agent\\builds\\buildkite-windows-cpu-autoscaling-group-i-07593ffd91cd9da33-1\\xgboost\\xgboost-ci-windows\\src\\learner.cc:767: \n",
      "Parameters: { \"max_delta_step\", \"max_depth\" } are not used.\n",
      "\n",
      "[10:19:34] WARNING: C:\\buildkite-agent\\builds\\buildkite-windows-cpu-autoscaling-group-i-07593ffd91cd9da33-1\\xgboost\\xgboost-ci-windows\\src\\learner.cc:767: \n",
      "Parameters: { \"max_delta_step\", \"max_depth\" } are not used.\n",
      "\n",
      "[10:19:38] WARNING: C:\\buildkite-agent\\builds\\buildkite-windows-cpu-autoscaling-group-i-07593ffd91cd9da33-1\\xgboost\\xgboost-ci-windows\\src\\learner.cc:767: \n",
      "Parameters: { \"max_delta_step\", \"max_depth\" } are not used.\n",
      "\n",
      "[10:19:45] WARNING: C:\\buildkite-agent\\builds\\buildkite-windows-cpu-autoscaling-group-i-07593ffd91cd9da33-1\\xgboost\\xgboost-ci-windows\\src\\learner.cc:767: \n",
      "Parameters: { \"max_delta_step\", \"max_depth\" } are not used.\n",
      "\n",
      "[10:19:53] WARNING: C:\\buildkite-agent\\builds\\buildkite-windows-cpu-autoscaling-group-i-07593ffd91cd9da33-1\\xgboost\\xgboost-ci-windows\\src\\learner.cc:767: \n",
      "Parameters: { \"max_delta_step\", \"max_depth\" } are not used.\n",
      "\n",
      "[10:20:00] WARNING: C:\\buildkite-agent\\builds\\buildkite-windows-cpu-autoscaling-group-i-07593ffd91cd9da33-1\\xgboost\\xgboost-ci-windows\\src\\learner.cc:767: \n",
      "Parameters: { \"max_delta_step\", \"max_depth\" } are not used.\n",
      "\n",
      "[10:20:08] WARNING: C:\\buildkite-agent\\builds\\buildkite-windows-cpu-autoscaling-group-i-07593ffd91cd9da33-1\\xgboost\\xgboost-ci-windows\\src\\learner.cc:767: \n",
      "Parameters: { \"max_delta_step\", \"max_depth\" } are not used.\n",
      "\n",
      "[10:20:19] WARNING: C:\\buildkite-agent\\builds\\buildkite-windows-cpu-autoscaling-group-i-07593ffd91cd9da33-1\\xgboost\\xgboost-ci-windows\\src\\learner.cc:767: \n",
      "Parameters: { \"max_delta_step\", \"max_depth\" } are not used.\n",
      "\n",
      "[10:20:30] WARNING: C:\\buildkite-agent\\builds\\buildkite-windows-cpu-autoscaling-group-i-07593ffd91cd9da33-1\\xgboost\\xgboost-ci-windows\\src\\learner.cc:767: \n",
      "Parameters: { \"max_delta_step\", \"max_depth\" } are not used.\n",
      "\n",
      "[10:20:42] WARNING: C:\\buildkite-agent\\builds\\buildkite-windows-cpu-autoscaling-group-i-07593ffd91cd9da33-1\\xgboost\\xgboost-ci-windows\\src\\learner.cc:767: \n",
      "Parameters: { \"max_delta_step\", \"max_depth\" } are not used.\n",
      "\n",
      "[10:20:55] WARNING: C:\\buildkite-agent\\builds\\buildkite-windows-cpu-autoscaling-group-i-07593ffd91cd9da33-1\\xgboost\\xgboost-ci-windows\\src\\learner.cc:767: \n",
      "Parameters: { \"max_delta_step\", \"max_depth\" } are not used.\n",
      "\n",
      "[10:20:58] WARNING: C:\\buildkite-agent\\builds\\buildkite-windows-cpu-autoscaling-group-i-07593ffd91cd9da33-1\\xgboost\\xgboost-ci-windows\\src\\learner.cc:767: \n",
      "Parameters: { \"max_delta_step\", \"max_depth\" } are not used.\n",
      "\n",
      "[10:21:02] WARNING: C:\\buildkite-agent\\builds\\buildkite-windows-cpu-autoscaling-group-i-07593ffd91cd9da33-1\\xgboost\\xgboost-ci-windows\\src\\learner.cc:767: \n",
      "Parameters: { \"max_delta_step\", \"max_depth\" } are not used.\n",
      "\n",
      "[10:21:05] WARNING: C:\\buildkite-agent\\builds\\buildkite-windows-cpu-autoscaling-group-i-07593ffd91cd9da33-1\\xgboost\\xgboost-ci-windows\\src\\learner.cc:767: \n",
      "Parameters: { \"max_delta_step\", \"max_depth\" } are not used.\n",
      "\n",
      "[10:21:08] WARNING: C:\\buildkite-agent\\builds\\buildkite-windows-cpu-autoscaling-group-i-07593ffd91cd9da33-1\\xgboost\\xgboost-ci-windows\\src\\learner.cc:767: \n",
      "Parameters: { \"max_delta_step\", \"max_depth\" } are not used.\n",
      "\n",
      "[10:21:15] WARNING: C:\\buildkite-agent\\builds\\buildkite-windows-cpu-autoscaling-group-i-07593ffd91cd9da33-1\\xgboost\\xgboost-ci-windows\\src\\learner.cc:767: \n",
      "Parameters: { \"max_delta_step\", \"max_depth\" } are not used.\n",
      "\n",
      "[10:21:22] WARNING: C:\\buildkite-agent\\builds\\buildkite-windows-cpu-autoscaling-group-i-07593ffd91cd9da33-1\\xgboost\\xgboost-ci-windows\\src\\learner.cc:767: \n",
      "Parameters: { \"max_delta_step\", \"max_depth\" } are not used.\n",
      "\n",
      "[10:21:29] WARNING: C:\\buildkite-agent\\builds\\buildkite-windows-cpu-autoscaling-group-i-07593ffd91cd9da33-1\\xgboost\\xgboost-ci-windows\\src\\learner.cc:767: \n",
      "Parameters: { \"max_delta_step\", \"max_depth\" } are not used.\n",
      "\n",
      "[10:21:36] WARNING: C:\\buildkite-agent\\builds\\buildkite-windows-cpu-autoscaling-group-i-07593ffd91cd9da33-1\\xgboost\\xgboost-ci-windows\\src\\learner.cc:767: \n",
      "Parameters: { \"max_delta_step\", \"max_depth\" } are not used.\n",
      "\n",
      "[10:21:49] WARNING: C:\\buildkite-agent\\builds\\buildkite-windows-cpu-autoscaling-group-i-07593ffd91cd9da33-1\\xgboost\\xgboost-ci-windows\\src\\learner.cc:767: \n",
      "Parameters: { \"max_delta_step\", \"max_depth\" } are not used.\n",
      "\n",
      "[10:22:02] WARNING: C:\\buildkite-agent\\builds\\buildkite-windows-cpu-autoscaling-group-i-07593ffd91cd9da33-1\\xgboost\\xgboost-ci-windows\\src\\learner.cc:767: \n",
      "Parameters: { \"max_delta_step\", \"max_depth\" } are not used.\n",
      "\n",
      "[10:22:14] WARNING: C:\\buildkite-agent\\builds\\buildkite-windows-cpu-autoscaling-group-i-07593ffd91cd9da33-1\\xgboost\\xgboost-ci-windows\\src\\learner.cc:767: \n",
      "Parameters: { \"max_delta_step\", \"max_depth\" } are not used.\n",
      "\n",
      "[10:22:26] WARNING: C:\\buildkite-agent\\builds\\buildkite-windows-cpu-autoscaling-group-i-07593ffd91cd9da33-1\\xgboost\\xgboost-ci-windows\\src\\learner.cc:767: \n",
      "Parameters: { \"max_delta_step\", \"max_depth\" } are not used.\n",
      "\n"
     ]
    },
    {
     "data": {
      "text/html": [
       "<style>#sk-container-id-2 {color: black;background-color: white;}#sk-container-id-2 pre{padding: 0;}#sk-container-id-2 div.sk-toggleable {background-color: white;}#sk-container-id-2 label.sk-toggleable__label {cursor: pointer;display: block;width: 100%;margin-bottom: 0;padding: 0.3em;box-sizing: border-box;text-align: center;}#sk-container-id-2 label.sk-toggleable__label-arrow:before {content: \"▸\";float: left;margin-right: 0.25em;color: #696969;}#sk-container-id-2 label.sk-toggleable__label-arrow:hover:before {color: black;}#sk-container-id-2 div.sk-estimator:hover label.sk-toggleable__label-arrow:before {color: black;}#sk-container-id-2 div.sk-toggleable__content {max-height: 0;max-width: 0;overflow: hidden;text-align: left;background-color: #f0f8ff;}#sk-container-id-2 div.sk-toggleable__content pre {margin: 0.2em;color: black;border-radius: 0.25em;background-color: #f0f8ff;}#sk-container-id-2 input.sk-toggleable__control:checked~div.sk-toggleable__content {max-height: 200px;max-width: 100%;overflow: auto;}#sk-container-id-2 input.sk-toggleable__control:checked~label.sk-toggleable__label-arrow:before {content: \"▾\";}#sk-container-id-2 div.sk-estimator input.sk-toggleable__control:checked~label.sk-toggleable__label {background-color: #d4ebff;}#sk-container-id-2 div.sk-label input.sk-toggleable__control:checked~label.sk-toggleable__label {background-color: #d4ebff;}#sk-container-id-2 input.sk-hidden--visually {border: 0;clip: rect(1px 1px 1px 1px);clip: rect(1px, 1px, 1px, 1px);height: 1px;margin: -1px;overflow: hidden;padding: 0;position: absolute;width: 1px;}#sk-container-id-2 div.sk-estimator {font-family: monospace;background-color: #f0f8ff;border: 1px dotted black;border-radius: 0.25em;box-sizing: border-box;margin-bottom: 0.5em;}#sk-container-id-2 div.sk-estimator:hover {background-color: #d4ebff;}#sk-container-id-2 div.sk-parallel-item::after {content: \"\";width: 100%;border-bottom: 1px solid gray;flex-grow: 1;}#sk-container-id-2 div.sk-label:hover label.sk-toggleable__label {background-color: #d4ebff;}#sk-container-id-2 div.sk-serial::before {content: \"\";position: absolute;border-left: 1px solid gray;box-sizing: border-box;top: 0;bottom: 0;left: 50%;z-index: 0;}#sk-container-id-2 div.sk-serial {display: flex;flex-direction: column;align-items: center;background-color: white;padding-right: 0.2em;padding-left: 0.2em;position: relative;}#sk-container-id-2 div.sk-item {position: relative;z-index: 1;}#sk-container-id-2 div.sk-parallel {display: flex;align-items: stretch;justify-content: center;background-color: white;position: relative;}#sk-container-id-2 div.sk-item::before, #sk-container-id-2 div.sk-parallel-item::before {content: \"\";position: absolute;border-left: 1px solid gray;box-sizing: border-box;top: 0;bottom: 0;left: 50%;z-index: -1;}#sk-container-id-2 div.sk-parallel-item {display: flex;flex-direction: column;z-index: 1;position: relative;background-color: white;}#sk-container-id-2 div.sk-parallel-item:first-child::after {align-self: flex-end;width: 50%;}#sk-container-id-2 div.sk-parallel-item:last-child::after {align-self: flex-start;width: 50%;}#sk-container-id-2 div.sk-parallel-item:only-child::after {width: 0;}#sk-container-id-2 div.sk-dashed-wrapped {border: 1px dashed gray;margin: 0 0.4em 0.5em 0.4em;box-sizing: border-box;padding-bottom: 0.4em;background-color: white;}#sk-container-id-2 div.sk-label label {font-family: monospace;font-weight: bold;display: inline-block;line-height: 1.2em;}#sk-container-id-2 div.sk-label-container {text-align: center;}#sk-container-id-2 div.sk-container {/* jupyter's `normalize.less` sets `[hidden] { display: none; }` but bootstrap.min.css set `[hidden] { display: none !important; }` so we also need the `!important` here to be able to override the default hidden behavior on the sphinx rendered scikit-learn.org. See: https://github.com/scikit-learn/scikit-learn/issues/21755 */display: inline-block !important;position: relative;}#sk-container-id-2 div.sk-text-repr-fallback {display: none;}</style><div id=\"sk-container-id-2\" class=\"sk-top-container\"><div class=\"sk-text-repr-fallback\"><pre>GridSearchCV(cv=4,\n",
       "             estimator=XGBClassifier(base_score=None, booster=&#x27;gblinear&#x27;,\n",
       "                                     callbacks=None, colsample_bylevel=None,\n",
       "                                     colsample_bynode=None,\n",
       "                                     colsample_bytree=None,\n",
       "                                     early_stopping_rounds=None,\n",
       "                                     enable_categorical=False, eval_metric=None,\n",
       "                                     feature_types=None, gamma=None,\n",
       "                                     gpu_id=None, grow_policy=None,\n",
       "                                     importance_type=None,\n",
       "                                     interaction_constraints=None,\n",
       "                                     learning_rate...\n",
       "                                     max_cat_threshold=None,\n",
       "                                     max_cat_to_onehot=None, max_delta_step=3,\n",
       "                                     max_depth=None, max_leaves=None,\n",
       "                                     min_child_weight=None, missing=nan,\n",
       "                                     monotone_constraints=None,\n",
       "                                     n_estimators=100, n_jobs=None,\n",
       "                                     num_parallel_tree=None, predictor=None,\n",
       "                                     random_state=None, ...),\n",
       "             n_jobs=1,\n",
       "             param_grid={&#x27;learning_rate&#x27;: [0.01, 0.1], &#x27;max_depth&#x27;: [3, 5, 7],\n",
       "                         &#x27;n_estimators&#x27;: [100, 300, 500]},\n",
       "             scoring=&#x27;f1&#x27;)</pre><b>In a Jupyter environment, please rerun this cell to show the HTML representation or trust the notebook. <br />On GitHub, the HTML representation is unable to render, please try loading this page with nbviewer.org.</b></div><div class=\"sk-container\" hidden><div class=\"sk-item sk-dashed-wrapped\"><div class=\"sk-label-container\"><div class=\"sk-label sk-toggleable\"><input class=\"sk-toggleable__control sk-hidden--visually\" id=\"sk-estimator-id-2\" type=\"checkbox\" ><label for=\"sk-estimator-id-2\" class=\"sk-toggleable__label sk-toggleable__label-arrow\">GridSearchCV</label><div class=\"sk-toggleable__content\"><pre>GridSearchCV(cv=4,\n",
       "             estimator=XGBClassifier(base_score=None, booster=&#x27;gblinear&#x27;,\n",
       "                                     callbacks=None, colsample_bylevel=None,\n",
       "                                     colsample_bynode=None,\n",
       "                                     colsample_bytree=None,\n",
       "                                     early_stopping_rounds=None,\n",
       "                                     enable_categorical=False, eval_metric=None,\n",
       "                                     feature_types=None, gamma=None,\n",
       "                                     gpu_id=None, grow_policy=None,\n",
       "                                     importance_type=None,\n",
       "                                     interaction_constraints=None,\n",
       "                                     learning_rate...\n",
       "                                     max_cat_threshold=None,\n",
       "                                     max_cat_to_onehot=None, max_delta_step=3,\n",
       "                                     max_depth=None, max_leaves=None,\n",
       "                                     min_child_weight=None, missing=nan,\n",
       "                                     monotone_constraints=None,\n",
       "                                     n_estimators=100, n_jobs=None,\n",
       "                                     num_parallel_tree=None, predictor=None,\n",
       "                                     random_state=None, ...),\n",
       "             n_jobs=1,\n",
       "             param_grid={&#x27;learning_rate&#x27;: [0.01, 0.1], &#x27;max_depth&#x27;: [3, 5, 7],\n",
       "                         &#x27;n_estimators&#x27;: [100, 300, 500]},\n",
       "             scoring=&#x27;f1&#x27;)</pre></div></div></div><div class=\"sk-parallel\"><div class=\"sk-parallel-item\"><div class=\"sk-item\"><div class=\"sk-label-container\"><div class=\"sk-label sk-toggleable\"><input class=\"sk-toggleable__control sk-hidden--visually\" id=\"sk-estimator-id-3\" type=\"checkbox\" ><label for=\"sk-estimator-id-3\" class=\"sk-toggleable__label sk-toggleable__label-arrow\">estimator: XGBClassifier</label><div class=\"sk-toggleable__content\"><pre>XGBClassifier(base_score=None, booster=&#x27;gblinear&#x27;, callbacks=None,\n",
       "              colsample_bylevel=None, colsample_bynode=None,\n",
       "              colsample_bytree=None, early_stopping_rounds=None,\n",
       "              enable_categorical=False, eval_metric=None, feature_types=None,\n",
       "              gamma=None, gpu_id=None, grow_policy=None, importance_type=None,\n",
       "              interaction_constraints=None, learning_rate=None, max_bin=None,\n",
       "              max_cat_threshold=None, max_cat_to_onehot=None, max_delta_step=3,\n",
       "              max_depth=None, max_leaves=None, min_child_weight=None,\n",
       "              missing=nan, monotone_constraints=None, n_estimators=100,\n",
       "              n_jobs=None, num_parallel_tree=None, predictor=None,\n",
       "              random_state=None, ...)</pre></div></div></div><div class=\"sk-serial\"><div class=\"sk-item\"><div class=\"sk-estimator sk-toggleable\"><input class=\"sk-toggleable__control sk-hidden--visually\" id=\"sk-estimator-id-4\" type=\"checkbox\" ><label for=\"sk-estimator-id-4\" class=\"sk-toggleable__label sk-toggleable__label-arrow\">XGBClassifier</label><div class=\"sk-toggleable__content\"><pre>XGBClassifier(base_score=None, booster=&#x27;gblinear&#x27;, callbacks=None,\n",
       "              colsample_bylevel=None, colsample_bynode=None,\n",
       "              colsample_bytree=None, early_stopping_rounds=None,\n",
       "              enable_categorical=False, eval_metric=None, feature_types=None,\n",
       "              gamma=None, gpu_id=None, grow_policy=None, importance_type=None,\n",
       "              interaction_constraints=None, learning_rate=None, max_bin=None,\n",
       "              max_cat_threshold=None, max_cat_to_onehot=None, max_delta_step=3,\n",
       "              max_depth=None, max_leaves=None, min_child_weight=None,\n",
       "              missing=nan, monotone_constraints=None, n_estimators=100,\n",
       "              n_jobs=None, num_parallel_tree=None, predictor=None,\n",
       "              random_state=None, ...)</pre></div></div></div></div></div></div></div></div></div></div>"
      ],
      "text/plain": [
       "GridSearchCV(cv=4,\n",
       "             estimator=XGBClassifier(base_score=None, booster='gblinear',\n",
       "                                     callbacks=None, colsample_bylevel=None,\n",
       "                                     colsample_bynode=None,\n",
       "                                     colsample_bytree=None,\n",
       "                                     early_stopping_rounds=None,\n",
       "                                     enable_categorical=False, eval_metric=None,\n",
       "                                     feature_types=None, gamma=None,\n",
       "                                     gpu_id=None, grow_policy=None,\n",
       "                                     importance_type=None,\n",
       "                                     interaction_constraints=None,\n",
       "                                     learning_rate...\n",
       "                                     max_cat_threshold=None,\n",
       "                                     max_cat_to_onehot=None, max_delta_step=3,\n",
       "                                     max_depth=None, max_leaves=None,\n",
       "                                     min_child_weight=None, missing=nan,\n",
       "                                     monotone_constraints=None,\n",
       "                                     n_estimators=100, n_jobs=None,\n",
       "                                     num_parallel_tree=None, predictor=None,\n",
       "                                     random_state=None, ...),\n",
       "             n_jobs=1,\n",
       "             param_grid={'learning_rate': [0.01, 0.1], 'max_depth': [3, 5, 7],\n",
       "                         'n_estimators': [100, 300, 500]},\n",
       "             scoring='f1')"
      ]
     },
     "execution_count": 47,
     "metadata": {},
     "output_type": "execute_result"
    }
   ],
   "source": [
    "from xgboost import XGBClassifier\n",
    "from sklearn.model_selection import GridSearchCV\n",
    "\n",
    "xgb_param_grid={\n",
    "    'n_estimators' : [100,300,500],\n",
    "    'learning_rate' : [0.01,0.1],\n",
    "    'max_depth' : [3,5,7],\n",
    "    # 'max_delta_step' : [1,3]\n",
    "}\n",
    "# xgb = XGBClassifier(booster='gbtree',objective='binary:logistic',max_delta_step = 3)\n",
    "xgb = XGBClassifier(booster='gblinear',objective='binary:logistic',max_delta_step = 3)\n",
    "xgb_grid=GridSearchCV(xgb, param_grid=xgb_param_grid, scoring='f1', cv=4, n_jobs=1)\n",
    "\n",
    "\n",
    "xgb_grid.fit(X_train, y_train)"
   ]
  },
  {
   "cell_type": "code",
   "execution_count": 48,
   "id": "ff08a185",
   "metadata": {},
   "outputs": [],
   "source": [
    "# def objective(trial,data=X,target=train_target):\n",
    "#     train_x, test_x, train_y, test_y = train_test_split(X, train_target, test_size=0.15,random_state=42)\n",
    "#     param = {\n",
    "#         'tree_method':'gpu_hist',  # this parameter means using the GPU when training our model to speedup the training process\n",
    "#         'lambda': trial.suggest_loguniform('lambda', 1e-3, 10.0),\n",
    "#         'alpha': trial.suggest_loguniform('alpha', 1e-3, 10.0),\n",
    "#         'colsample_bytree': trial.suggest_categorical('colsample_bytree', [0.3,0.4,0.5,0.6,0.7,0.8,0.9, 1.0]),\n",
    "#         'subsample': trial.suggest_categorical('subsample', [0.4,0.5,0.6,0.7,0.8,1.0]),\n",
    "#         'learning_rate': trial.suggest_categorical('learning_rate', [0.008,0.01,0.012,0.014,0.016,0.018, 0.02]),\n",
    "#         'n_estimators': 10000,\n",
    "#         'max_depth': trial.suggest_categorical('max_depth', [5,7,9,11,13,15,17]),\n",
    "#         'random_state': trial.suggest_categorical('random_state', [2020]),\n",
    "#         'min_child_weight': trial.suggest_int('min_child_weight', 1, 300),\n",
    "#     }\n",
    "#     model = xgb.XGBClassifier(**param)  \n",
    "#     model.fit(train_x,train_y,eval_set=[(test_x,test_y)],early_stopping_rounds=100,verbose=False)\n",
    "#     preds = model.predict(test_x)\n",
    "#     # rmse = mean_squared_error(test_y, preds,squared=False)\n",
    "#     # return rmse\n",
    "#     accuracy = sklearn.metrics.accuracy_score(test_y, preds)\n",
    "#     return accuracy"
   ]
  },
  {
   "cell_type": "code",
   "execution_count": 49,
   "id": "196937a2",
   "metadata": {},
   "outputs": [],
   "source": [
    "# import optuna\n",
    "# study = optuna.create_study(direction='maximize')\n",
    "# study.optimize(objective, n_trials=100)\n",
    "\n",
    "# print(study.best_trial)"
   ]
  },
  {
   "cell_type": "code",
   "execution_count": 50,
   "id": "e1f3e47c",
   "metadata": {},
   "outputs": [
    {
     "data": {
      "text/plain": [
       "{'learning_rate': 0.1, 'max_depth': 3, 'n_estimators': 500}"
      ]
     },
     "execution_count": 50,
     "metadata": {},
     "output_type": "execute_result"
    }
   ],
   "source": [
    "\n",
    "xgb_grid.best_params_"
   ]
  },
  {
   "cell_type": "code",
   "execution_count": 56,
   "id": "3d808af6",
   "metadata": {},
   "outputs": [
    {
     "name": "stdout",
     "output_type": "stream",
     "text": [
      "[10:24:28] WARNING: C:\\buildkite-agent\\builds\\buildkite-windows-cpu-autoscaling-group-i-07593ffd91cd9da33-1\\xgboost\\xgboost-ci-windows\\src\\learner.cc:767: \n",
      "Parameters: { \"max_delta_step\", \"max_depth\" } are not used.\n",
      "\n"
     ]
    },
    {
     "data": {
      "text/html": [
       "<style>#sk-container-id-4 {color: black;background-color: white;}#sk-container-id-4 pre{padding: 0;}#sk-container-id-4 div.sk-toggleable {background-color: white;}#sk-container-id-4 label.sk-toggleable__label {cursor: pointer;display: block;width: 100%;margin-bottom: 0;padding: 0.3em;box-sizing: border-box;text-align: center;}#sk-container-id-4 label.sk-toggleable__label-arrow:before {content: \"▸\";float: left;margin-right: 0.25em;color: #696969;}#sk-container-id-4 label.sk-toggleable__label-arrow:hover:before {color: black;}#sk-container-id-4 div.sk-estimator:hover label.sk-toggleable__label-arrow:before {color: black;}#sk-container-id-4 div.sk-toggleable__content {max-height: 0;max-width: 0;overflow: hidden;text-align: left;background-color: #f0f8ff;}#sk-container-id-4 div.sk-toggleable__content pre {margin: 0.2em;color: black;border-radius: 0.25em;background-color: #f0f8ff;}#sk-container-id-4 input.sk-toggleable__control:checked~div.sk-toggleable__content {max-height: 200px;max-width: 100%;overflow: auto;}#sk-container-id-4 input.sk-toggleable__control:checked~label.sk-toggleable__label-arrow:before {content: \"▾\";}#sk-container-id-4 div.sk-estimator input.sk-toggleable__control:checked~label.sk-toggleable__label {background-color: #d4ebff;}#sk-container-id-4 div.sk-label input.sk-toggleable__control:checked~label.sk-toggleable__label {background-color: #d4ebff;}#sk-container-id-4 input.sk-hidden--visually {border: 0;clip: rect(1px 1px 1px 1px);clip: rect(1px, 1px, 1px, 1px);height: 1px;margin: -1px;overflow: hidden;padding: 0;position: absolute;width: 1px;}#sk-container-id-4 div.sk-estimator {font-family: monospace;background-color: #f0f8ff;border: 1px dotted black;border-radius: 0.25em;box-sizing: border-box;margin-bottom: 0.5em;}#sk-container-id-4 div.sk-estimator:hover {background-color: #d4ebff;}#sk-container-id-4 div.sk-parallel-item::after {content: \"\";width: 100%;border-bottom: 1px solid gray;flex-grow: 1;}#sk-container-id-4 div.sk-label:hover label.sk-toggleable__label {background-color: #d4ebff;}#sk-container-id-4 div.sk-serial::before {content: \"\";position: absolute;border-left: 1px solid gray;box-sizing: border-box;top: 0;bottom: 0;left: 50%;z-index: 0;}#sk-container-id-4 div.sk-serial {display: flex;flex-direction: column;align-items: center;background-color: white;padding-right: 0.2em;padding-left: 0.2em;position: relative;}#sk-container-id-4 div.sk-item {position: relative;z-index: 1;}#sk-container-id-4 div.sk-parallel {display: flex;align-items: stretch;justify-content: center;background-color: white;position: relative;}#sk-container-id-4 div.sk-item::before, #sk-container-id-4 div.sk-parallel-item::before {content: \"\";position: absolute;border-left: 1px solid gray;box-sizing: border-box;top: 0;bottom: 0;left: 50%;z-index: -1;}#sk-container-id-4 div.sk-parallel-item {display: flex;flex-direction: column;z-index: 1;position: relative;background-color: white;}#sk-container-id-4 div.sk-parallel-item:first-child::after {align-self: flex-end;width: 50%;}#sk-container-id-4 div.sk-parallel-item:last-child::after {align-self: flex-start;width: 50%;}#sk-container-id-4 div.sk-parallel-item:only-child::after {width: 0;}#sk-container-id-4 div.sk-dashed-wrapped {border: 1px dashed gray;margin: 0 0.4em 0.5em 0.4em;box-sizing: border-box;padding-bottom: 0.4em;background-color: white;}#sk-container-id-4 div.sk-label label {font-family: monospace;font-weight: bold;display: inline-block;line-height: 1.2em;}#sk-container-id-4 div.sk-label-container {text-align: center;}#sk-container-id-4 div.sk-container {/* jupyter's `normalize.less` sets `[hidden] { display: none; }` but bootstrap.min.css set `[hidden] { display: none !important; }` so we also need the `!important` here to be able to override the default hidden behavior on the sphinx rendered scikit-learn.org. See: https://github.com/scikit-learn/scikit-learn/issues/21755 */display: inline-block !important;position: relative;}#sk-container-id-4 div.sk-text-repr-fallback {display: none;}</style><div id=\"sk-container-id-4\" class=\"sk-top-container\"><div class=\"sk-text-repr-fallback\"><pre>XGBClassifier(base_score=None, booster=&#x27;gblinear&#x27;, callbacks=None,\n",
       "              colsample_bylevel=None, colsample_bynode=None,\n",
       "              colsample_bytree=None, early_stopping_rounds=None,\n",
       "              enable_categorical=False, eval_metric=None, feature_types=None,\n",
       "              gamma=None, gpu_id=None, grow_policy=None, importance_type=None,\n",
       "              interaction_constraints=None, learning_rate=0.01, max_bin=None,\n",
       "              max_cat_threshold=None, max_cat_to_onehot=None, max_delta_step=3,\n",
       "              max_depth=3, max_leaves=None, min_child_weight=None, missing=nan,\n",
       "              monotone_constraints=None, n_estimators=500, n_jobs=None,\n",
       "              num_parallel_tree=None, predictor=None, random_state=None, ...)</pre><b>In a Jupyter environment, please rerun this cell to show the HTML representation or trust the notebook. <br />On GitHub, the HTML representation is unable to render, please try loading this page with nbviewer.org.</b></div><div class=\"sk-container\" hidden><div class=\"sk-item\"><div class=\"sk-estimator sk-toggleable\"><input class=\"sk-toggleable__control sk-hidden--visually\" id=\"sk-estimator-id-6\" type=\"checkbox\" checked><label for=\"sk-estimator-id-6\" class=\"sk-toggleable__label sk-toggleable__label-arrow\">XGBClassifier</label><div class=\"sk-toggleable__content\"><pre>XGBClassifier(base_score=None, booster=&#x27;gblinear&#x27;, callbacks=None,\n",
       "              colsample_bylevel=None, colsample_bynode=None,\n",
       "              colsample_bytree=None, early_stopping_rounds=None,\n",
       "              enable_categorical=False, eval_metric=None, feature_types=None,\n",
       "              gamma=None, gpu_id=None, grow_policy=None, importance_type=None,\n",
       "              interaction_constraints=None, learning_rate=0.01, max_bin=None,\n",
       "              max_cat_threshold=None, max_cat_to_onehot=None, max_delta_step=3,\n",
       "              max_depth=3, max_leaves=None, min_child_weight=None, missing=nan,\n",
       "              monotone_constraints=None, n_estimators=500, n_jobs=None,\n",
       "              num_parallel_tree=None, predictor=None, random_state=None, ...)</pre></div></div></div></div></div>"
      ],
      "text/plain": [
       "XGBClassifier(base_score=None, booster='gblinear', callbacks=None,\n",
       "              colsample_bylevel=None, colsample_bynode=None,\n",
       "              colsample_bytree=None, early_stopping_rounds=None,\n",
       "              enable_categorical=False, eval_metric=None, feature_types=None,\n",
       "              gamma=None, gpu_id=None, grow_policy=None, importance_type=None,\n",
       "              interaction_constraints=None, learning_rate=0.01, max_bin=None,\n",
       "              max_cat_threshold=None, max_cat_to_onehot=None, max_delta_step=3,\n",
       "              max_depth=3, max_leaves=None, min_child_weight=None, missing=nan,\n",
       "              monotone_constraints=None, n_estimators=500, n_jobs=None,\n",
       "              num_parallel_tree=None, predictor=None, random_state=None, ...)"
      ]
     },
     "execution_count": 56,
     "metadata": {},
     "output_type": "execute_result"
    }
   ],
   "source": [
    "# xgb = XGBClassifier(booster='gbtree',\n",
    "xgb = XGBClassifier(booster='gblinear',\n",
    "                    objective='binary:logistic',\n",
    "                    max_delta_step = 3,\n",
    "                    learning_rate=0.01,\n",
    "                    max_depth=3,\n",
    "                    n_estimators=500\n",
    "                    )\n",
    "\n",
    "xgb.fit(X_train, y_train)"
   ]
  },
  {
   "cell_type": "code",
   "execution_count": 57,
   "id": "c9be1926",
   "metadata": {},
   "outputs": [
    {
     "name": "stdout",
     "output_type": "stream",
     "text": [
      "XGB Accuracy : 0.582258\n"
     ]
    },
    {
     "data": {
      "text/plain": [
       "0.582258064516129"
      ]
     },
     "execution_count": 57,
     "metadata": {},
     "output_type": "execute_result"
    }
   ],
   "source": [
    "# grid search 적용 후\n",
    "print(\"XGB Accuracy : %f\" % xgb.score(X_eval, y_eval)) # 검증 데이터로 성능 측정\n",
    "accuracy_score(y_eval, xgb.predict(X_eval))"
   ]
  },
  {
   "cell_type": "code",
   "execution_count": 58,
   "id": "7ea56383",
   "metadata": {},
   "outputs": [
    {
     "data": {
      "text/plain": [
       "1    451\n",
       "0    169\n",
       "Name: count, dtype: int64"
      ]
     },
     "execution_count": 58,
     "metadata": {},
     "output_type": "execute_result"
    }
   ],
   "source": [
    "test_xgb = pd.DataFrame(xgb.predict(X_eval))\n",
    "test_xgb.value_counts()"
   ]
  },
  {
   "attachments": {},
   "cell_type": "markdown",
   "id": "4dbc0712",
   "metadata": {},
   "source": [
    "## TEST에 적용"
   ]
  },
  {
   "cell_type": "code",
   "execution_count": 59,
   "id": "a4aca8d9",
   "metadata": {},
   "outputs": [
    {
     "data": {
      "text/html": [
       "<div>\n",
       "<style scoped>\n",
       "    .dataframe tbody tr th:only-of-type {\n",
       "        vertical-align: middle;\n",
       "    }\n",
       "\n",
       "    .dataframe tbody tr th {\n",
       "        vertical-align: top;\n",
       "    }\n",
       "\n",
       "    .dataframe thead th {\n",
       "        text-align: right;\n",
       "    }\n",
       "</style>\n",
       "<table border=\"1\" class=\"dataframe\">\n",
       "  <thead>\n",
       "    <tr style=\"text-align: right;\">\n",
       "      <th></th>\n",
       "      <th>ID</th>\n",
       "      <th>first_party</th>\n",
       "      <th>second_party</th>\n",
       "      <th>facts</th>\n",
       "    </tr>\n",
       "  </thead>\n",
       "  <tbody>\n",
       "    <tr>\n",
       "      <th>0</th>\n",
       "      <td>TEST_0000</td>\n",
       "      <td>Salerno</td>\n",
       "      <td>United States</td>\n",
       "      <td>The 1984 Bail Reform Act allowed the federal c...</td>\n",
       "    </tr>\n",
       "    <tr>\n",
       "      <th>1</th>\n",
       "      <td>TEST_0001</td>\n",
       "      <td>Milberg Weiss Bershad Hynes and Lerach</td>\n",
       "      <td>Lexecon, Inc.</td>\n",
       "      <td>Lexecon Inc. was a defendant in a class action...</td>\n",
       "    </tr>\n",
       "    <tr>\n",
       "      <th>2</th>\n",
       "      <td>TEST_0002</td>\n",
       "      <td>No. 07-582\\t Title: \\t Federal Communications ...</td>\n",
       "      <td>Fox Television Stations, Inc., et al.</td>\n",
       "      <td>In 2002 and 2003, Fox Television Stations broa...</td>\n",
       "    </tr>\n",
       "    <tr>\n",
       "      <th>3</th>\n",
       "      <td>TEST_0003</td>\n",
       "      <td>Harold Kaufman</td>\n",
       "      <td>United States</td>\n",
       "      <td>During his trial for armed robbery of a federa...</td>\n",
       "    </tr>\n",
       "    <tr>\n",
       "      <th>4</th>\n",
       "      <td>TEST_0004</td>\n",
       "      <td>Berger</td>\n",
       "      <td>Hanlon</td>\n",
       "      <td>In 1993, a magistrate judge issued a warrant a...</td>\n",
       "    </tr>\n",
       "  </tbody>\n",
       "</table>\n",
       "</div>"
      ],
      "text/plain": [
       "          ID                                        first_party  \\\n",
       "0  TEST_0000                                            Salerno   \n",
       "1  TEST_0001             Milberg Weiss Bershad Hynes and Lerach   \n",
       "2  TEST_0002  No. 07-582\\t Title: \\t Federal Communications ...   \n",
       "3  TEST_0003                                    Harold Kaufman    \n",
       "4  TEST_0004                                             Berger   \n",
       "\n",
       "                            second_party  \\\n",
       "0                          United States   \n",
       "1                          Lexecon, Inc.   \n",
       "2  Fox Television Stations, Inc., et al.   \n",
       "3                          United States   \n",
       "4                                 Hanlon   \n",
       "\n",
       "                                               facts  \n",
       "0  The 1984 Bail Reform Act allowed the federal c...  \n",
       "1  Lexecon Inc. was a defendant in a class action...  \n",
       "2  In 2002 and 2003, Fox Television Stations broa...  \n",
       "3  During his trial for armed robbery of a federa...  \n",
       "4  In 1993, a magistrate judge issued a warrant a...  "
      ]
     },
     "execution_count": 59,
     "metadata": {},
     "output_type": "execute_result"
    }
   ],
   "source": [
    "test.head()"
   ]
  },
  {
   "cell_type": "code",
   "execution_count": 60,
   "id": "9161b24f",
   "metadata": {},
   "outputs": [
    {
     "data": {
      "text/html": [
       "<div>\n",
       "<style scoped>\n",
       "    .dataframe tbody tr th:only-of-type {\n",
       "        vertical-align: middle;\n",
       "    }\n",
       "\n",
       "    .dataframe tbody tr th {\n",
       "        vertical-align: top;\n",
       "    }\n",
       "\n",
       "    .dataframe thead th {\n",
       "        text-align: right;\n",
       "    }\n",
       "</style>\n",
       "<table border=\"1\" class=\"dataframe\">\n",
       "  <thead>\n",
       "    <tr style=\"text-align: right;\">\n",
       "      <th></th>\n",
       "      <th>facts</th>\n",
       "      <th>first_party</th>\n",
       "      <th>second_party</th>\n",
       "      <th>first_party_winner</th>\n",
       "    </tr>\n",
       "  </thead>\n",
       "  <tbody>\n",
       "    <tr>\n",
       "      <th>0</th>\n",
       "      <td>the 1984 bail reform act allowed the federal c...</td>\n",
       "      <td>Salerno</td>\n",
       "      <td>United States</td>\n",
       "      <td>0</td>\n",
       "    </tr>\n",
       "    <tr>\n",
       "      <th>1</th>\n",
       "      <td>lexecon inc wa a defendant in a class action l...</td>\n",
       "      <td>Milberg Weiss Bershad Hynes and Lerach</td>\n",
       "      <td>Lexecon, Inc.</td>\n",
       "      <td>0</td>\n",
       "    </tr>\n",
       "    <tr>\n",
       "      <th>2</th>\n",
       "      <td>in 2002 and 2003 fox television station broadc...</td>\n",
       "      <td>No. 07-582\\t Title: \\t Federal Communications ...</td>\n",
       "      <td>Fox Television Stations, Inc., et al.</td>\n",
       "      <td>0</td>\n",
       "    </tr>\n",
       "    <tr>\n",
       "      <th>3</th>\n",
       "      <td>during his trial for armed robbery of a federa...</td>\n",
       "      <td>Harold Kaufman</td>\n",
       "      <td>United States</td>\n",
       "      <td>0</td>\n",
       "    </tr>\n",
       "    <tr>\n",
       "      <th>4</th>\n",
       "      <td>in 1993 a magistrate judge issued a warrant au...</td>\n",
       "      <td>Berger</td>\n",
       "      <td>Hanlon</td>\n",
       "      <td>0</td>\n",
       "    </tr>\n",
       "    <tr>\n",
       "      <th>...</th>\n",
       "      <td>...</td>\n",
       "      <td>...</td>\n",
       "      <td>...</td>\n",
       "      <td>...</td>\n",
       "    </tr>\n",
       "    <tr>\n",
       "      <th>1235</th>\n",
       "      <td>according to executive order no 12807 signed b...</td>\n",
       "      <td>Haitian Centers Council, Inc., et al.</td>\n",
       "      <td>Chris Sale, Acting Commissioner, Immigration A...</td>\n",
       "      <td>0</td>\n",
       "    </tr>\n",
       "    <tr>\n",
       "      <th>1236</th>\n",
       "      <td>section 109a of the clean air act caa requires...</td>\n",
       "      <td>Whitman</td>\n",
       "      <td>American Trucking Associations, Inc.</td>\n",
       "      <td>0</td>\n",
       "    </tr>\n",
       "    <tr>\n",
       "      <th>1237</th>\n",
       "      <td>linda matteo and john madigan created a plan f...</td>\n",
       "      <td>Linda A. Matteo and John J. Madigan</td>\n",
       "      <td>William G. Barr</td>\n",
       "      <td>0</td>\n",
       "    </tr>\n",
       "    <tr>\n",
       "      <th>1238</th>\n",
       "      <td>in 1972 the north carolina board of agricultur...</td>\n",
       "      <td>Washington State Apple Advertising Commission</td>\n",
       "      <td>Hunt</td>\n",
       "      <td>0</td>\n",
       "    </tr>\n",
       "    <tr>\n",
       "      <th>1239</th>\n",
       "      <td>on august 23 1961 dr paul berheldt wa stabbed ...</td>\n",
       "      <td>Theodore Stovall</td>\n",
       "      <td>Wilfred Denno, Warden</td>\n",
       "      <td>0</td>\n",
       "    </tr>\n",
       "  </tbody>\n",
       "</table>\n",
       "<p>1240 rows × 4 columns</p>\n",
       "</div>"
      ],
      "text/plain": [
       "                                                  facts  \\\n",
       "0     the 1984 bail reform act allowed the federal c...   \n",
       "1     lexecon inc wa a defendant in a class action l...   \n",
       "2     in 2002 and 2003 fox television station broadc...   \n",
       "3     during his trial for armed robbery of a federa...   \n",
       "4     in 1993 a magistrate judge issued a warrant au...   \n",
       "...                                                 ...   \n",
       "1235  according to executive order no 12807 signed b...   \n",
       "1236  section 109a of the clean air act caa requires...   \n",
       "1237  linda matteo and john madigan created a plan f...   \n",
       "1238  in 1972 the north carolina board of agricultur...   \n",
       "1239  on august 23 1961 dr paul berheldt wa stabbed ...   \n",
       "\n",
       "                                            first_party  \\\n",
       "0                                               Salerno   \n",
       "1                Milberg Weiss Bershad Hynes and Lerach   \n",
       "2     No. 07-582\\t Title: \\t Federal Communications ...   \n",
       "3                                       Harold Kaufman    \n",
       "4                                                Berger   \n",
       "...                                                 ...   \n",
       "1235              Haitian Centers Council, Inc., et al.   \n",
       "1236                                            Whitman   \n",
       "1237                Linda A. Matteo and John J. Madigan   \n",
       "1238      Washington State Apple Advertising Commission   \n",
       "1239                                   Theodore Stovall   \n",
       "\n",
       "                                           second_party  first_party_winner  \n",
       "0                                         United States                   0  \n",
       "1                                         Lexecon, Inc.                   0  \n",
       "2                 Fox Television Stations, Inc., et al.                   0  \n",
       "3                                         United States                   0  \n",
       "4                                                Hanlon                   0  \n",
       "...                                                 ...                 ...  \n",
       "1235  Chris Sale, Acting Commissioner, Immigration A...                   0  \n",
       "1236               American Trucking Associations, Inc.                   0  \n",
       "1237                                    William G. Barr                   0  \n",
       "1238                                               Hunt                   0  \n",
       "1239                              Wilfred Denno, Warden                   0  \n",
       "\n",
       "[1240 rows x 4 columns]"
      ]
     },
     "execution_count": 60,
     "metadata": {},
     "output_type": "execute_result"
    }
   ],
   "source": [
    "dfTest = pd.DataFrame(test['facts'])\n",
    "# df_nlp['facts'] = df_nlp['facts'].str.replace(r'\\d', '', regex=True)       # 숫자 제거\n",
    "# df_nlp['facts'] = df_nlp['facts'].str.replace(r'[^\\w\\s]', '', regex=True)\n",
    "\n",
    "dfTest[\"facts\"] = dfTest[\"facts\"].apply(lambda x: utils_preprocess_text(x, flg_stemm=False, flg_lemm=True, lst_stopwords=lst_stopwords, user_stopwords=user_stopwords))\n",
    "dfTest = pd.concat([dfTest,test['first_party'],test['second_party']],axis=1, join='inner')\n",
    "dfTest['first_party_winner'] = np.zeros(len(dfTest)).astype(int)\n",
    "dfTest"
   ]
  },
  {
   "cell_type": "code",
   "execution_count": 61,
   "id": "4d509fb5",
   "metadata": {},
   "outputs": [
    {
     "data": {
      "text/plain": [
       "matrix([[0., 0., 0., ..., 0., 0., 0.],\n",
       "        [0., 0., 0., ..., 0., 0., 0.],\n",
       "        [0., 0., 0., ..., 0., 0., 0.],\n",
       "        ...,\n",
       "        [0., 0., 0., ..., 0., 0., 0.],\n",
       "        [0., 0., 0., ..., 0., 0., 0.],\n",
       "        [0., 0., 0., ..., 0., 0., 0.]])"
      ]
     },
     "execution_count": 61,
     "metadata": {},
     "output_type": "execute_result"
    }
   ],
   "source": [
    "X_test = get_vector(vectorizer, dfTest, False)\n",
    "y_test = dfTest[\"first_party_winner\"]\n",
    "X_test"
   ]
  },
  {
   "cell_type": "code",
   "execution_count": 62,
   "id": "2c9a73ce",
   "metadata": {},
   "outputs": [
    {
     "data": {
      "text/plain": [
       "first_party_winner\n",
       "1                     930\n",
       "0                     310\n",
       "Name: count, dtype: int64"
      ]
     },
     "execution_count": 62,
     "metadata": {},
     "output_type": "execute_result"
    }
   ],
   "source": [
    "y_pred_test = xgb.predict((np.asarray(X_test)))\n",
    "predcsv = pd.DataFrame(y_pred_test,columns=['first_party_winner'])\n",
    "predcsv.value_counts()"
   ]
  },
  {
   "attachments": {},
   "cell_type": "markdown",
   "id": "a4aa8041-458a-4404-8bb1-d0169d4dd64d",
   "metadata": {},
   "source": [
    "## Inference & Submission"
   ]
  },
  {
   "cell_type": "code",
   "execution_count": 63,
   "id": "8d929fac",
   "metadata": {},
   "outputs": [
    {
     "name": "stdout",
     "output_type": "stream",
     "text": [
      "Done\n"
     ]
    }
   ],
   "source": [
    "submit = pd.read_csv('C:/data/project/sample_submission.csv')\n",
    "submit['first_party_winner'] = predcsv\n",
    "submit.to_csv('./sample_submission.csv', index=False)\n",
    "print('Done')"
   ]
  }
 ],
 "metadata": {
  "kernelspec": {
   "display_name": "PyTorch 1.14 (NGC 22.12/Python 3.8) on Backend.AI",
   "language": "python",
   "name": "python3"
  },
  "language_info": {
   "codemirror_mode": {
    "name": "ipython",
    "version": 3
   },
   "file_extension": ".py",
   "mimetype": "text/x-python",
   "name": "python",
   "nbconvert_exporter": "python",
   "pygments_lexer": "ipython3",
   "version": "3.11.3"
  }
 },
 "nbformat": 4,
 "nbformat_minor": 5
}
